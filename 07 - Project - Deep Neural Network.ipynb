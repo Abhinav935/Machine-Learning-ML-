{
 "cells": [
  {
   "cell_type": "markdown",
   "id": "5ea243b8",
   "metadata": {},
   "source": [
    "# Project: Deep Neural Network\n",
    "- Identify false banknotes"
   ]
  },
  {
   "cell_type": "markdown",
   "id": "fbc0d19b",
   "metadata": {},
   "source": [
    "### Step 1: Import libraries"
   ]
  },
  {
   "cell_type": "code",
   "execution_count": 3,
   "id": "b1fb93ca",
   "metadata": {},
   "outputs": [],
   "source": [
    "import pandas as pd\n",
    "from sklearn.model_selection import train_test_split\n",
    "from tensorflow.keras.layers import Dense\n",
    "from tensorflow.keras.models import Sequential"
   ]
  },
  {
   "cell_type": "markdown",
   "id": "50b057d4",
   "metadata": {},
   "source": [
    "### Step 2: Read the data\n",
    "- Use Pandas [read_csv](https://pandas.pydata.org/pandas-docs/stable/reference/api/pandas.read_csv.html) method to read **files/banknotes.csv**"
   ]
  },
  {
   "cell_type": "code",
   "execution_count": 4,
   "id": "6aff7b49",
   "metadata": {},
   "outputs": [
    {
     "data": {
      "text/html": [
       "<div>\n",
       "<style scoped>\n",
       "    .dataframe tbody tr th:only-of-type {\n",
       "        vertical-align: middle;\n",
       "    }\n",
       "\n",
       "    .dataframe tbody tr th {\n",
       "        vertical-align: top;\n",
       "    }\n",
       "\n",
       "    .dataframe thead th {\n",
       "        text-align: right;\n",
       "    }\n",
       "</style>\n",
       "<table border=\"1\" class=\"dataframe\">\n",
       "  <thead>\n",
       "    <tr style=\"text-align: right;\">\n",
       "      <th></th>\n",
       "      <th>variance</th>\n",
       "      <th>skewness</th>\n",
       "      <th>curtosis</th>\n",
       "      <th>entropy</th>\n",
       "      <th>class</th>\n",
       "    </tr>\n",
       "  </thead>\n",
       "  <tbody>\n",
       "    <tr>\n",
       "      <th>0</th>\n",
       "      <td>-0.89569</td>\n",
       "      <td>3.00250</td>\n",
       "      <td>-3.606700</td>\n",
       "      <td>-3.44570</td>\n",
       "      <td>1</td>\n",
       "    </tr>\n",
       "    <tr>\n",
       "      <th>1</th>\n",
       "      <td>3.47690</td>\n",
       "      <td>-0.15314</td>\n",
       "      <td>2.530000</td>\n",
       "      <td>2.44950</td>\n",
       "      <td>0</td>\n",
       "    </tr>\n",
       "    <tr>\n",
       "      <th>2</th>\n",
       "      <td>3.91020</td>\n",
       "      <td>6.06500</td>\n",
       "      <td>-2.453400</td>\n",
       "      <td>-0.68234</td>\n",
       "      <td>0</td>\n",
       "    </tr>\n",
       "    <tr>\n",
       "      <th>3</th>\n",
       "      <td>0.60731</td>\n",
       "      <td>3.95440</td>\n",
       "      <td>-4.772000</td>\n",
       "      <td>-4.48530</td>\n",
       "      <td>1</td>\n",
       "    </tr>\n",
       "    <tr>\n",
       "      <th>4</th>\n",
       "      <td>2.37180</td>\n",
       "      <td>7.49080</td>\n",
       "      <td>0.015989</td>\n",
       "      <td>-1.74140</td>\n",
       "      <td>0</td>\n",
       "    </tr>\n",
       "  </tbody>\n",
       "</table>\n",
       "</div>"
      ],
      "text/plain": [
       "   variance  skewness  curtosis  entropy  class\n",
       "0  -0.89569   3.00250 -3.606700 -3.44570      1\n",
       "1   3.47690  -0.15314  2.530000  2.44950      0\n",
       "2   3.91020   6.06500 -2.453400 -0.68234      0\n",
       "3   0.60731   3.95440 -4.772000 -4.48530      1\n",
       "4   2.37180   7.49080  0.015989 -1.74140      0"
      ]
     },
     "execution_count": 4,
     "metadata": {},
     "output_type": "execute_result"
    }
   ],
   "source": [
    "data = pd.read_csv('files/banknotes.csv')\n",
    "data.head()"
   ]
  },
  {
   "cell_type": "code",
   "execution_count": null,
   "id": "48c5bc18",
   "metadata": {},
   "outputs": [],
   "source": []
  },
  {
   "cell_type": "markdown",
   "id": "44ed20c2",
   "metadata": {},
   "source": [
    "### Step 3: Investitigate the data\n",
    "- Check how many classes (class)\n",
    "    - HINT: use [unique()](https://pandas.pydata.org/docs/reference/api/pandas.unique.html)\n",
    "- Check for missing data\n",
    "    - HINT: use [isna()](https://pandas.pydata.org/docs/reference/api/pandas.DataFrame.isna.html)[.sum()](https://pandas.pydata.org/docs/reference/api/pandas.DataFrame.sum.html)"
   ]
  },
  {
   "cell_type": "code",
   "execution_count": 5,
   "id": "235f48b6",
   "metadata": {},
   "outputs": [
    {
     "data": {
      "text/plain": [
       "array([1, 0])"
      ]
     },
     "execution_count": 5,
     "metadata": {},
     "output_type": "execute_result"
    }
   ],
   "source": [
    "data['class'].unique()"
   ]
  },
  {
   "cell_type": "code",
   "execution_count": 6,
   "id": "16f22f43",
   "metadata": {},
   "outputs": [
    {
     "data": {
      "text/plain": [
       "variance    0\n",
       "skewness    0\n",
       "curtosis    0\n",
       "entropy     0\n",
       "class       0\n",
       "dtype: int64"
      ]
     },
     "execution_count": 6,
     "metadata": {},
     "output_type": "execute_result"
    }
   ],
   "source": [
    "data.isna().sum()"
   ]
  },
  {
   "cell_type": "markdown",
   "id": "a9db20eb",
   "metadata": {},
   "source": [
    "### Step 4: Divite data into feature vectors and labels\n",
    "- Assign the feature vectors to $X$\n",
    "    - HINT: that is all but the last column of the data\n",
    "- Assign the labels to $y$\n",
    "    - HINT: that is the last column (**class**)"
   ]
  },
  {
   "cell_type": "code",
   "execution_count": 7,
   "id": "671d7340",
   "metadata": {},
   "outputs": [
    {
     "data": {
      "text/html": [
       "<div>\n",
       "<style scoped>\n",
       "    .dataframe tbody tr th:only-of-type {\n",
       "        vertical-align: middle;\n",
       "    }\n",
       "\n",
       "    .dataframe tbody tr th {\n",
       "        vertical-align: top;\n",
       "    }\n",
       "\n",
       "    .dataframe thead th {\n",
       "        text-align: right;\n",
       "    }\n",
       "</style>\n",
       "<table border=\"1\" class=\"dataframe\">\n",
       "  <thead>\n",
       "    <tr style=\"text-align: right;\">\n",
       "      <th></th>\n",
       "      <th>variance</th>\n",
       "      <th>skewness</th>\n",
       "      <th>curtosis</th>\n",
       "      <th>entropy</th>\n",
       "    </tr>\n",
       "  </thead>\n",
       "  <tbody>\n",
       "    <tr>\n",
       "      <th>0</th>\n",
       "      <td>-0.89569</td>\n",
       "      <td>3.00250</td>\n",
       "      <td>-3.606700</td>\n",
       "      <td>-3.44570</td>\n",
       "    </tr>\n",
       "    <tr>\n",
       "      <th>1</th>\n",
       "      <td>3.47690</td>\n",
       "      <td>-0.15314</td>\n",
       "      <td>2.530000</td>\n",
       "      <td>2.44950</td>\n",
       "    </tr>\n",
       "    <tr>\n",
       "      <th>2</th>\n",
       "      <td>3.91020</td>\n",
       "      <td>6.06500</td>\n",
       "      <td>-2.453400</td>\n",
       "      <td>-0.68234</td>\n",
       "    </tr>\n",
       "    <tr>\n",
       "      <th>3</th>\n",
       "      <td>0.60731</td>\n",
       "      <td>3.95440</td>\n",
       "      <td>-4.772000</td>\n",
       "      <td>-4.48530</td>\n",
       "    </tr>\n",
       "    <tr>\n",
       "      <th>4</th>\n",
       "      <td>2.37180</td>\n",
       "      <td>7.49080</td>\n",
       "      <td>0.015989</td>\n",
       "      <td>-1.74140</td>\n",
       "    </tr>\n",
       "  </tbody>\n",
       "</table>\n",
       "</div>"
      ],
      "text/plain": [
       "   variance  skewness  curtosis  entropy\n",
       "0  -0.89569   3.00250 -3.606700 -3.44570\n",
       "1   3.47690  -0.15314  2.530000  2.44950\n",
       "2   3.91020   6.06500 -2.453400 -0.68234\n",
       "3   0.60731   3.95440 -4.772000 -4.48530\n",
       "4   2.37180   7.49080  0.015989 -1.74140"
      ]
     },
     "execution_count": 7,
     "metadata": {},
     "output_type": "execute_result"
    }
   ],
   "source": [
    "X = data.iloc[:,:-1]\n",
    "y = data.iloc[:,-1]\n",
    "X.head()"
   ]
  },
  {
   "cell_type": "code",
   "execution_count": 8,
   "id": "7a7c76f5",
   "metadata": {},
   "outputs": [
    {
     "data": {
      "text/plain": [
       "0    1\n",
       "1    0\n",
       "2    0\n",
       "3    1\n",
       "4    0\n",
       "Name: class, dtype: int64"
      ]
     },
     "execution_count": 8,
     "metadata": {},
     "output_type": "execute_result"
    }
   ],
   "source": [
    "y.head()"
   ]
  },
  {
   "cell_type": "markdown",
   "id": "5c768c6c",
   "metadata": {},
   "source": [
    "### Step 5: Create training and test datasets\n",
    "- Split $X$ and $y$ into train and test sets using **train_test_split** with **test_size=.4**"
   ]
  },
  {
   "cell_type": "code",
   "execution_count": 9,
   "id": "d7878b4d",
   "metadata": {},
   "outputs": [],
   "source": [
    "X_train, X_test, y_train, y_test = train_test_split(X, y, test_size=.4, random_state=42)"
   ]
  },
  {
   "cell_type": "code",
   "execution_count": null,
   "id": "c271b32b",
   "metadata": {},
   "outputs": [],
   "source": []
  },
  {
   "cell_type": "markdown",
   "id": "aaf02924",
   "metadata": {},
   "source": [
    "### Step 6: Create and compile the model\n",
    "- Create a **Sequential** model\n",
    "    - **Dense** with 8 nodes with **input_dim=4, activaition='relu'**\n",
    "    - **Dense** with 1 (the output node) with **activaition='sigmoid'**\n",
    "- Complie the model with **optimizer='adam', loss='binary_crossentropy', metrics=['accuracy']**"
   ]
  },
  {
   "cell_type": "code",
   "execution_count": 10,
   "id": "35c0a015",
   "metadata": {},
   "outputs": [
    {
     "name": "stderr",
     "output_type": "stream",
     "text": [
      "2022-04-23 18:20:09.803129: I tensorflow/stream_executor/cuda/cuda_gpu_executor.cc:939] successful NUMA node read from SysFS had negative value (-1), but there must be at least one NUMA node, so returning NUMA node zero\n",
      "2022-04-23 18:20:09.848051: I tensorflow/stream_executor/cuda/cuda_gpu_executor.cc:939] successful NUMA node read from SysFS had negative value (-1), but there must be at least one NUMA node, so returning NUMA node zero\n",
      "2022-04-23 18:20:09.848652: I tensorflow/stream_executor/cuda/cuda_gpu_executor.cc:939] successful NUMA node read from SysFS had negative value (-1), but there must be at least one NUMA node, so returning NUMA node zero\n",
      "2022-04-23 18:20:09.849114: I tensorflow/core/common_runtime/gpu/gpu_device.cc:1900] Ignoring visible gpu device (device: 0, name: Quadro K1000M, pci bus id: 0000:01:00.0, compute capability: 3.0) with Cuda compute capability 3.0. The minimum required Cuda capability is 3.5.\n",
      "2022-04-23 18:20:09.849668: I tensorflow/core/platform/cpu_feature_guard.cc:151] This TensorFlow binary is optimized with oneAPI Deep Neural Network Library (oneDNN) to use the following CPU instructions in performance-critical operations:  SSE4.1 SSE4.2 AVX\n",
      "To enable them in other operations, rebuild TensorFlow with the appropriate compiler flags.\n"
     ]
    }
   ],
   "source": [
    "model = Sequential()\n",
    "model.add(Dense(8, input_dim = 4, activation='relu'))\n",
    "model.add(Dense(1, activation='sigmoid'))\n",
    "model.compile(optimizer='adam', loss='binary_crossentropy', metrics=['accuracy'])"
   ]
  },
  {
   "cell_type": "code",
   "execution_count": null,
   "id": "9a61e58c",
   "metadata": {},
   "outputs": [],
   "source": []
  },
  {
   "cell_type": "markdown",
   "id": "d7d9ac1a",
   "metadata": {},
   "source": [
    "### Step 7: Fit and test the accuracy\n",
    "- Fit the model on training data with **epochs=20**\n",
    "- Evaluate the model with test data with **verbose=2**"
   ]
  },
  {
   "cell_type": "code",
   "execution_count": 11,
   "id": "a5ef7fe4",
   "metadata": {},
   "outputs": [
    {
     "name": "stdout",
     "output_type": "stream",
     "text": [
      "Epoch 1/20\n",
      "26/26 [==============================] - 0s 1ms/step - loss: 0.4158 - accuracy: 0.7278\n",
      "Epoch 2/20\n",
      "26/26 [==============================] - 0s 1ms/step - loss: 0.3513 - accuracy: 0.7995\n",
      "Epoch 3/20\n",
      "26/26 [==============================] - 0s 1ms/step - loss: 0.3027 - accuracy: 0.8578\n",
      "Epoch 4/20\n",
      "26/26 [==============================] - 0s 1ms/step - loss: 0.2601 - accuracy: 0.8967\n",
      "Epoch 5/20\n",
      "26/26 [==============================] - 0s 1ms/step - loss: 0.2266 - accuracy: 0.9526\n",
      "Epoch 6/20\n",
      "26/26 [==============================] - 0s 1ms/step - loss: 0.1994 - accuracy: 0.9793\n",
      "Epoch 7/20\n",
      "26/26 [==============================] - 0s 1ms/step - loss: 0.1778 - accuracy: 0.9903\n",
      "Epoch 8/20\n",
      "26/26 [==============================] - 0s 1ms/step - loss: 0.1599 - accuracy: 0.9939\n",
      "Epoch 9/20\n",
      "26/26 [==============================] - 0s 2ms/step - loss: 0.1449 - accuracy: 0.9964\n",
      "Epoch 10/20\n",
      "26/26 [==============================] - 0s 2ms/step - loss: 0.1316 - accuracy: 0.9964\n",
      "Epoch 11/20\n",
      "26/26 [==============================] - 0s 1ms/step - loss: 0.1200 - accuracy: 0.9964\n",
      "Epoch 12/20\n",
      "26/26 [==============================] - 0s 1ms/step - loss: 0.1099 - accuracy: 0.9964\n",
      "Epoch 13/20\n",
      "26/26 [==============================] - 0s 1ms/step - loss: 0.1011 - accuracy: 0.9976\n",
      "Epoch 14/20\n",
      "26/26 [==============================] - 0s 1ms/step - loss: 0.0932 - accuracy: 0.9976\n",
      "Epoch 15/20\n",
      "26/26 [==============================] - 0s 1ms/step - loss: 0.0863 - accuracy: 0.9976\n",
      "Epoch 16/20\n",
      "26/26 [==============================] - 0s 1ms/step - loss: 0.0801 - accuracy: 0.9976\n",
      "Epoch 17/20\n",
      "26/26 [==============================] - 0s 1ms/step - loss: 0.0743 - accuracy: 0.9976\n",
      "Epoch 18/20\n",
      "26/26 [==============================] - 0s 1ms/step - loss: 0.0689 - accuracy: 0.9976\n",
      "Epoch 19/20\n",
      "26/26 [==============================] - 0s 2ms/step - loss: 0.0639 - accuracy: 0.9976\n",
      "Epoch 20/20\n",
      "26/26 [==============================] - 0s 2ms/step - loss: 0.0591 - accuracy: 0.9988\n",
      "18/18 - 0s - loss: 0.0580 - accuracy: 0.9964 - 211ms/epoch - 12ms/step\n"
     ]
    },
    {
     "data": {
      "text/plain": [
       "[0.05799677222967148, 0.9963570237159729]"
      ]
     },
     "execution_count": 11,
     "metadata": {},
     "output_type": "execute_result"
    }
   ],
   "source": [
    "model.fit(X_train, y_train, epochs=20)\n",
    "model.evaluate(X_test, y_test, verbose=2)"
   ]
  },
  {
   "cell_type": "code",
   "execution_count": null,
   "id": "e5b018fa",
   "metadata": {},
   "outputs": [],
   "source": []
  },
  {
   "cell_type": "markdown",
   "id": "12ee1716",
   "metadata": {},
   "source": [
    "### Step 8 (Optional): Add another hidden layer\n",
    "- Add another hidden layer in the model\n",
    "- Test performance"
   ]
  },
  {
   "cell_type": "code",
   "execution_count": 12,
   "id": "26bff70b",
   "metadata": {},
   "outputs": [],
   "source": [
    "model = Sequential()\n",
    "model.add(Dense(8, input_dim = 4, activation='relu'))\n",
    "model.add(Dense(4, activation='relu'))\n",
    "model.add(Dense(1, activation='sigmoid'))\n",
    "model.compile(optimizer='adam', loss='binary_crossentropy', metrics=['accuracy'])"
   ]
  },
  {
   "cell_type": "code",
   "execution_count": 13,
   "id": "4c50441b",
   "metadata": {},
   "outputs": [
    {
     "name": "stdout",
     "output_type": "stream",
     "text": [
      "Epoch 1/20\n",
      "26/26 [==============================] - 1s 1ms/step - loss: 0.6806 - accuracy: 0.6124\n",
      "Epoch 2/20\n",
      "26/26 [==============================] - 0s 2ms/step - loss: 0.6345 - accuracy: 0.6586\n",
      "Epoch 3/20\n",
      "26/26 [==============================] - 0s 2ms/step - loss: 0.5955 - accuracy: 0.6768\n",
      "Epoch 4/20\n",
      "26/26 [==============================] - 0s 2ms/step - loss: 0.5585 - accuracy: 0.6987\n",
      "Epoch 5/20\n",
      "26/26 [==============================] - 0s 3ms/step - loss: 0.5233 - accuracy: 0.7193\n",
      "Epoch 6/20\n",
      "26/26 [==============================] - 0s 2ms/step - loss: 0.4912 - accuracy: 0.7254\n",
      "Epoch 7/20\n",
      "26/26 [==============================] - 0s 2ms/step - loss: 0.4610 - accuracy: 0.7436\n",
      "Epoch 8/20\n",
      "26/26 [==============================] - 0s 1ms/step - loss: 0.4306 - accuracy: 0.7485\n",
      "Epoch 9/20\n",
      "26/26 [==============================] - 0s 1ms/step - loss: 0.3987 - accuracy: 0.7618\n",
      "Epoch 10/20\n",
      "26/26 [==============================] - 0s 1ms/step - loss: 0.3661 - accuracy: 0.7740\n",
      "Epoch 11/20\n",
      "26/26 [==============================] - 0s 2ms/step - loss: 0.3315 - accuracy: 0.8214\n",
      "Epoch 12/20\n",
      "26/26 [==============================] - 0s 2ms/step - loss: 0.2938 - accuracy: 0.8700\n",
      "Epoch 13/20\n",
      "26/26 [==============================] - 0s 1ms/step - loss: 0.2554 - accuracy: 0.9089\n",
      "Epoch 14/20\n",
      "26/26 [==============================] - 0s 2ms/step - loss: 0.2298 - accuracy: 0.9271\n",
      "Epoch 15/20\n",
      "26/26 [==============================] - 0s 1ms/step - loss: 0.2107 - accuracy: 0.9368\n",
      "Epoch 16/20\n",
      "26/26 [==============================] - 0s 1ms/step - loss: 0.1954 - accuracy: 0.9538\n",
      "Epoch 17/20\n",
      "26/26 [==============================] - 0s 2ms/step - loss: 0.1818 - accuracy: 0.9599\n",
      "Epoch 18/20\n",
      "26/26 [==============================] - 0s 1ms/step - loss: 0.1707 - accuracy: 0.9708\n",
      "Epoch 19/20\n",
      "26/26 [==============================] - 0s 2ms/step - loss: 0.1607 - accuracy: 0.9769\n",
      "Epoch 20/20\n",
      "26/26 [==============================] - 0s 2ms/step - loss: 0.1525 - accuracy: 0.9818\n",
      "18/18 - 0s - loss: 0.1444 - accuracy: 0.9854 - 180ms/epoch - 10ms/step\n"
     ]
    },
    {
     "data": {
      "text/plain": [
       "[0.14443998038768768, 0.9854280352592468]"
      ]
     },
     "execution_count": 13,
     "metadata": {},
     "output_type": "execute_result"
    }
   ],
   "source": [
    "model.fit(X_train, y_train, epochs=20)\n",
    "model.evaluate(X_test, y_test, verbose=2)"
   ]
  },
  {
   "cell_type": "code",
   "execution_count": null,
   "id": "d411943c",
   "metadata": {},
   "outputs": [],
   "source": []
  }
 ],
 "metadata": {
  "kernelspec": {
   "display_name": "Python 3",
   "language": "python",
   "name": "python3"
  },
  "language_info": {
   "codemirror_mode": {
    "name": "ipython",
    "version": 3
   },
   "file_extension": ".py",
   "mimetype": "text/x-python",
   "name": "python",
   "nbconvert_exporter": "python",
   "pygments_lexer": "ipython3",
   "version": "3.9.12"
  }
 },
 "nbformat": 4,
 "nbformat_minor": 5
}
