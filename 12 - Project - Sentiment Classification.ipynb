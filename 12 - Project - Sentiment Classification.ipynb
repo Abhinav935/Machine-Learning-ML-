{
 "cells": [
  {
   "cell_type": "markdown",
   "id": "229fa4f2",
   "metadata": {},
   "source": [
    "# Project: Sentiment Classification\n",
    "- Make a model to determine whether a tweet positive or negative"
   ]
  },
  {
   "cell_type": "markdown",
   "id": "dd592d25",
   "metadata": {},
   "source": [
    "### Step 1: Import the libraries"
   ]
  },
  {
   "cell_type": "code",
   "execution_count": 11,
   "id": "b246b825",
   "metadata": {},
   "outputs": [],
   "source": [
    "import nltk\n",
    "import string\n",
    "from nltk.tag import pos_tag\n",
    "from nltk.stem.wordnet import WordNetLemmatizer\n",
    "from nltk import classify\n",
    "from nltk.corpus import stopwords\n",
    "from nltk import NaiveBayesClassifier\n",
    "from random import shuffle\n"
   ]
  },
  {
   "cell_type": "markdown",
   "id": "1c6e9000",
   "metadata": {},
   "source": [
    "### Step 2: Download the sample tweets\n",
    "- Execute the following cell"
   ]
  },
  {
   "cell_type": "code",
   "execution_count": 12,
   "id": "d7c52abb",
   "metadata": {},
   "outputs": [
    {
     "name": "stderr",
     "output_type": "stream",
     "text": [
      "[nltk_data] Downloading package twitter_samples to\n",
      "[nltk_data]     /home/adel/nltk_data...\n",
      "[nltk_data]   Package twitter_samples is already up-to-date!\n",
      "[nltk_data] Downloading package averaged_perceptron_tagger to\n",
      "[nltk_data]     /home/adel/nltk_data...\n",
      "[nltk_data]   Package averaged_perceptron_tagger is already up-to-\n",
      "[nltk_data]       date!\n",
      "[nltk_data] Downloading package wordnet to /home/adel/nltk_data...\n",
      "[nltk_data]   Package wordnet is already up-to-date!\n",
      "[nltk_data] Downloading package stopwords to /home/adel/nltk_data...\n",
      "[nltk_data]   Package stopwords is already up-to-date!\n",
      "[nltk_data] Downloading package punkt to /home/adel/nltk_data...\n",
      "[nltk_data]   Package punkt is already up-to-date!\n",
      "[nltk_data] Downloading package omw-1.4 to /home/adel/nltk_data...\n",
      "[nltk_data]   Unzipping corpora/omw-1.4.zip.\n"
     ]
    },
    {
     "data": {
      "text/plain": [
       "True"
      ]
     },
     "execution_count": 12,
     "metadata": {},
     "output_type": "execute_result"
    }
   ],
   "source": [
    "nltk.download('twitter_samples')\n",
    "nltk.download('averaged_perceptron_tagger')\n",
    "nltk.download('wordnet')\n",
    "nltk.download('stopwords')\n",
    "nltk.download('punkt')\n",
    "nltk.download('omw-1.4')"
   ]
  },
  {
   "cell_type": "markdown",
   "id": "feccae3b",
   "metadata": {},
   "source": [
    "### Step 3: The tweets\n",
    "- Get the positive and negative tweets.\n",
    "    - HINT: You access the positive tweets by: **nltk.corpus.twitter_samples.strings('positive_tweets.json')**\n",
    "    - HINT: Similarly for the negative tweets.\n",
    "- Notice: There is also tweets with no sentiment - we will ignore them in this project\n",
    "- Check a few tweets"
   ]
  },
  {
   "cell_type": "code",
   "execution_count": 13,
   "id": "ddfb7faa",
   "metadata": {},
   "outputs": [],
   "source": [
    "positive_tweets = nltk.corpus.twitter_samples.strings('positive_tweets.json')\n",
    "negative_tweets = nltk.corpus.twitter_samples.strings('negative_tweets.json')"
   ]
  },
  {
   "cell_type": "code",
   "execution_count": 14,
   "id": "a35fd39b",
   "metadata": {},
   "outputs": [
    {
     "data": {
      "text/plain": [
       "'#FollowFriday @France_Inte @PKuchly57 @Milipol_Paris for being top engaged members in my community this week :)'"
      ]
     },
     "execution_count": 14,
     "metadata": {},
     "output_type": "execute_result"
    }
   ],
   "source": [
    "positive_tweets[0]"
   ]
  },
  {
   "cell_type": "markdown",
   "id": "fac2b506",
   "metadata": {},
   "source": [
    "### Step 4: Tokenize the tweets\n",
    "- You get the tokenized tweets as follows:\n",
    "    - **nltk.corpus.twitter_samples.tokenized('positive_tweets.json')**\n",
    "    - Simlarly for **negative_tweets**\n",
    "- Why tokenize?\n",
    "    - To make processing easier\n",
    "- Check a few tweets (tokenized)"
   ]
  },
  {
   "cell_type": "code",
   "execution_count": 15,
   "id": "fbfe1210",
   "metadata": {},
   "outputs": [],
   "source": [
    "positive_tweets = nltk.corpus.twitter_samples.tokenized('positive_tweets.json')\n",
    "negative_tweets = nltk.corpus.twitter_samples.tokenized('negative_tweets.json')"
   ]
  },
  {
   "cell_type": "code",
   "execution_count": 16,
   "id": "f2c04ca3",
   "metadata": {},
   "outputs": [
    {
     "data": {
      "text/plain": [
       "['#FollowFriday',\n",
       " '@France_Inte',\n",
       " '@PKuchly57',\n",
       " '@Milipol_Paris',\n",
       " 'for',\n",
       " 'being',\n",
       " 'top',\n",
       " 'engaged',\n",
       " 'members',\n",
       " 'in',\n",
       " 'my',\n",
       " 'community',\n",
       " 'this',\n",
       " 'week',\n",
       " ':)']"
      ]
     },
     "execution_count": 16,
     "metadata": {},
     "output_type": "execute_result"
    }
   ],
   "source": [
    "positive_tweets[0]"
   ]
  },
  {
   "cell_type": "markdown",
   "id": "cce77587",
   "metadata": {},
   "source": [
    "### Step 5: Remove noise from data\n",
    "- The following tokens do not add value in our analysis\n",
    "    - Twitter usernames (starting with @)\n",
    "    - Hyperlinks (starting with http:// or https://)\n",
    "    - Punctuation and special characters\n",
    "        - HINT: if word in **string.punctuation**\n",
    "    - Numeric values only\n",
    "        - HINT: use **.isnumeric()**\n",
    "    - If word is a stopword ([wiki](https://en.wikipedia.org/wiki/Stop_word))\n",
    "        - HINT: Check if lower case word is in **stopwords.words('english')**\n",
    "- To simplify createa a helper function **is_clean** to check for the above\n",
    "- Create another helper function **clean_tokens**\n",
    "    - The function takes **tokens** (a list of tokens) as input\n",
    "    - Then returns a list of tokens, where **is_clean** has been used to filter\n",
    "    - Also, let's lowercase it all\n",
    "        - HINT: Use **lower()**\n",
    "- Finally, use list comprehension on the lists of positive and negative tweets where **clean_tokens** is applied on each element (tokens)."
   ]
  },
  {
   "cell_type": "code",
   "execution_count": 17,
   "id": "9443f6a8",
   "metadata": {},
   "outputs": [],
   "source": [
    "def is_clean(word: str):\n",
    "  if word.startswith('@'):\n",
    "    return False\n",
    "  if word.startswith('http://') or word.startswith('https://'):\n",
    "    return False\n",
    "  if word in string.punctuation:\n",
    "    return False\n",
    "  if word.isnumeric():\n",
    "    return False\n",
    "  if word in stopwords.words('english'):\n",
    "    return False\n",
    "  return True\n",
    "\n",
    "\n",
    "def clean_tokens(tokens: list):\n",
    "  return [word.lower() for word in tokens if is_clean(word)]\n",
    "\n",
    "positive_tweets_cleaned = [clean_tokens(tokens) for tokens in positive_tweets]\n",
    "negative_tweets_cleaned = [clean_tokens(tokens) for tokens in negative_tweets]"
   ]
  },
  {
   "cell_type": "code",
   "execution_count": 18,
   "id": "6723188f",
   "metadata": {},
   "outputs": [
    {
     "data": {
      "text/plain": [
       "['#followfriday', 'top', 'engaged', 'members', 'community', 'week', ':)']"
      ]
     },
     "execution_count": 18,
     "metadata": {},
     "output_type": "execute_result"
    }
   ],
   "source": [
    "positive_tweets_cleaned[0]"
   ]
  },
  {
   "cell_type": "code",
   "execution_count": 19,
   "id": "1f944678",
   "metadata": {},
   "outputs": [
    {
     "data": {
      "text/plain": [
       "['hopeless', 'tmr', ':(']"
      ]
     },
     "execution_count": 19,
     "metadata": {},
     "output_type": "execute_result"
    }
   ],
   "source": [
    "negative_tweets_cleaned[0]"
   ]
  },
  {
   "cell_type": "markdown",
   "id": "84a5141e",
   "metadata": {},
   "source": [
    "### Step 6: Normalize the data\n",
    "- The process of converting a word to its canonical form.\n",
    "- Without normalization, “ran”, “runs”, and “running” would be treated as different words.\n",
    "- Create a lemmatizer of **WordNetLemmatizer()**\n",
    "    - HINT: use **lemmatizer = WordNetLemmatizer()**\n",
    "- Create a helper function to lemmatize\n",
    "    - HINT: Create a helper function **lemmatize(word, tag)**\n",
    "        - Convert tag to **n** or **v** if tag starts with **NN** or **VB**, else **a**\n",
    "        - Return **lemmatizer.lemmatize(word, tag)**\n",
    "- Create a helper function **lemmatize_tokens(tokens: list)**\n",
    "    - Return a list, where each element of **word, tag in pos_tag(...)** of **lemmatize(word, tag)**.\n",
    "- Use list comprehension to normalize the positive and negative tweets\n",
    "    - HINT: apply **lemmatize_tokens(...)** on all elements"
   ]
  },
  {
   "cell_type": "code",
   "execution_count": 20,
   "id": "e60d6802",
   "metadata": {},
   "outputs": [],
   "source": [
    " lemmatizer = WordNetLemmatizer()\n",
    "\n",
    " def  lemmatize(word: str, tag: str):\n",
    "     if tag.startswith('NN'):\n",
    "       pos = 'n'\n",
    "     elif tag.startswith('VB'):\n",
    "        pos = 'v'\n",
    "     else:\n",
    "        pos = 'a'\n",
    "     return lemmatizer.lemmatize(word, pos)\n",
    "\n",
    "def lemmatize_tokens(tokens:list):\n",
    "  return [lemmatize(word, tag) for word, tag in pos_tag(tokens)]\n",
    "\n",
    "\n",
    "positive_tweets_normalized = [lemmatize_tokens(tokens) for tokens in positive_tweets_cleaned]\n",
    "negative_tweets_normalized = [lemmatize_tokens(tokens) for tokens in negative_tweets_cleaned]"
   ]
  },
  {
   "cell_type": "code",
   "execution_count": 21,
   "id": "c5749d93",
   "metadata": {},
   "outputs": [
    {
     "data": {
      "text/plain": [
       "['#followfriday', 'top', 'engaged', 'member', 'community', 'week', ':)']"
      ]
     },
     "execution_count": 21,
     "metadata": {},
     "output_type": "execute_result"
    }
   ],
   "source": [
    "positive_tweets_normalized[0]"
   ]
  },
  {
   "cell_type": "code",
   "execution_count": 22,
   "id": "6d63b870",
   "metadata": {},
   "outputs": [
    {
     "data": {
      "text/plain": [
       "['hopeless', 'tmr', ':(']"
      ]
     },
     "execution_count": 22,
     "metadata": {},
     "output_type": "execute_result"
    }
   ],
   "source": [
    "negative_tweets_normalized[0]"
   ]
  },
  {
   "cell_type": "markdown",
   "id": "4ef7fc28",
   "metadata": {},
   "source": [
    "### Step 7: Prepare data for Model\n",
    "- Example of normalized tweet: **['hopeless', 'tmr', ':(']**\n",
    "    - Should become **({'hopeless': True, 'tmr': True, ':(': True}, 'Negative')**\n",
    "- Hence, the list of tweets (positive and negative) should be converted\n",
    "- HINT: use a dict comprehension inside a list comprehension"
   ]
  },
  {
   "cell_type": "code",
   "execution_count": 23,
   "id": "a78005ef",
   "metadata": {},
   "outputs": [],
   "source": [
    "positive_dataset = [({token: True for token in tokens}, 'Positive') for tokens in positive_tweets_normalized]\n",
    "negative_dataset = [({token: True for token in tokens}, 'Negative') for tokens in negative_tweets_normalized]"
   ]
  },
  {
   "cell_type": "code",
   "execution_count": 24,
   "id": "8237eeeb",
   "metadata": {},
   "outputs": [
    {
     "data": {
      "text/plain": [
       "({'#followfriday': True,\n",
       "  'top': True,\n",
       "  'engaged': True,\n",
       "  'member': True,\n",
       "  'community': True,\n",
       "  'week': True,\n",
       "  ':)': True},\n",
       " 'Positive')"
      ]
     },
     "execution_count": 24,
     "metadata": {},
     "output_type": "execute_result"
    }
   ],
   "source": [
    "positive_dataset[0]"
   ]
  },
  {
   "cell_type": "code",
   "execution_count": 25,
   "id": "5353eb86",
   "metadata": {},
   "outputs": [
    {
     "data": {
      "text/plain": [
       "({'hopeless': True, 'tmr': True, ':(': True}, 'Negative')"
      ]
     },
     "execution_count": 25,
     "metadata": {},
     "output_type": "execute_result"
    }
   ],
   "source": [
    "negative_dataset[0]"
   ]
  },
  {
   "cell_type": "markdown",
   "id": "fdb20c6b",
   "metadata": {},
   "source": [
    "### Step 8: Prepare training and test dataset\n",
    "- Make the dataset of the combined positive and negative datasets\n",
    "- Shuffle the dataset\n",
    "    - Use **shuffle**\n",
    "- Let the training dataset be the first 7000 entries\n",
    "- Let the test dataset be the remaining entries"
   ]
  },
  {
   "cell_type": "code",
   "execution_count": 26,
   "id": "3d2e53a1",
   "metadata": {},
   "outputs": [],
   "source": [
    "dataset = positive_dataset + negative_dataset\n",
    "\n",
    "shuffle(dataset)\n",
    "\n",
    "train_ds = dataset[:7000]\n",
    "test_ds = dataset[7000:]"
   ]
  },
  {
   "cell_type": "code",
   "execution_count": null,
   "id": "a0216cfe",
   "metadata": {},
   "outputs": [],
   "source": []
  },
  {
   "cell_type": "markdown",
   "id": "a776bf28",
   "metadata": {},
   "source": [
    "### Step 9: Train and test Model\n",
    "- Train the model:\n",
    "    - HINT: **classifier = NaiveBayesClassifier.train(train_data)**\n",
    "- Test the accuracy\n",
    "    - HINT: **classify.accuracy(classifier, test_data)**"
   ]
  },
  {
   "cell_type": "code",
   "execution_count": 27,
   "id": "fa55202d",
   "metadata": {},
   "outputs": [],
   "source": [
    "classifier = NaiveBayesClassifier.train(train_ds)"
   ]
  },
  {
   "cell_type": "code",
   "execution_count": 28,
   "id": "95761195",
   "metadata": {},
   "outputs": [
    {
     "data": {
      "text/plain": [
       "0.9963333333333333"
      ]
     },
     "execution_count": 28,
     "metadata": {},
     "output_type": "execute_result"
    }
   ],
   "source": [
    "classify.accuracy(classifier, test_ds)"
   ]
  },
  {
   "cell_type": "markdown",
   "id": "d8b47f6d",
   "metadata": {},
   "source": [
    "### Step 10: Show the most informative features\n",
    "- HINT: Get the 10 most informative features: **classifier.show_most_informative_features(10)**"
   ]
  },
  {
   "cell_type": "code",
   "execution_count": 29,
   "id": "6bdd74e6",
   "metadata": {},
   "outputs": [
    {
     "name": "stdout",
     "output_type": "stream",
     "text": [
      "Most Informative Features\n",
      "                      :) = True           Positi : Negati =    991.9 : 1.0\n",
      "                     sad = True           Negati : Positi =     25.0 : 1.0\n",
      "                     bam = True           Positi : Negati =     22.4 : 1.0\n",
      "                follower = True           Positi : Negati =     19.8 : 1.0\n",
      "                     too = True           Negati : Positi =     19.0 : 1.0\n",
      "              appreciate = True           Positi : Negati =     17.0 : 1.0\n",
      "                     x15 = True           Negati : Positi =     17.0 : 1.0\n",
      "               community = True           Positi : Negati =     16.4 : 1.0\n",
      "                    damn = True           Negati : Positi =     14.3 : 1.0\n",
      "                  arrive = True           Positi : Negati =     12.2 : 1.0\n"
     ]
    }
   ],
   "source": [
    "classifier.show_most_informative_features(10)"
   ]
  },
  {
   "cell_type": "code",
   "execution_count": null,
   "id": "f6b21c4a",
   "metadata": {},
   "outputs": [],
   "source": []
  },
  {
   "cell_type": "markdown",
   "id": "9087a7d5",
   "metadata": {},
   "source": [
    "### Step 11: Test the model\n",
    "- Try your model as follows:\n",
    "    - Define a tweet: **tweet = 'this is fun and awesome'**\n",
    "    - Prepare data for model: **tweet_dict = {token: True for token in lemmatize_tokens(clean_tokens(tweet.split()))}**\n",
    "    - Classify data: **classifier.classify(tweet_dict)**"
   ]
  },
  {
   "cell_type": "code",
   "execution_count": 30,
   "id": "d0f5be5b",
   "metadata": {},
   "outputs": [],
   "source": [
    "tweet = 'this is fun and awesome'\n",
    "tweet_dict = {token: True for token in lemmatize_tokens(clean_tokens(tweet.split()))}"
   ]
  },
  {
   "cell_type": "code",
   "execution_count": 31,
   "id": "e5ba7919",
   "metadata": {},
   "outputs": [
    {
     "data": {
      "text/plain": [
       "'Positive'"
      ]
     },
     "execution_count": 31,
     "metadata": {},
     "output_type": "execute_result"
    }
   ],
   "source": [
    "classifier.classify(tweet_dict)"
   ]
  },
  {
   "cell_type": "markdown",
   "id": "46b1dd34",
   "metadata": {},
   "source": [
    "### Bonus: The pre-trained Sentiment Intensity Analyzer\n",
    "-  VADER (Valence Aware Dictionary and sEntiment Reasoner) ([Vader](https://www.nltk.org/howto/sentiment.html))"
   ]
  },
  {
   "cell_type": "code",
   "execution_count": 32,
   "id": "a7848af9",
   "metadata": {},
   "outputs": [
    {
     "name": "stderr",
     "output_type": "stream",
     "text": [
      "[nltk_data] Downloading package vader_lexicon to\n",
      "[nltk_data]     /home/adel/nltk_data...\n"
     ]
    },
    {
     "data": {
      "text/plain": [
       "True"
      ]
     },
     "execution_count": 32,
     "metadata": {},
     "output_type": "execute_result"
    }
   ],
   "source": [
    "from nltk.sentiment import SentimentIntensityAnalyzer\n",
    "nltk.download('vader_lexicon')"
   ]
  },
  {
   "cell_type": "code",
   "execution_count": 33,
   "id": "d2687d9f",
   "metadata": {},
   "outputs": [],
   "source": [
    "sia = SentimentIntensityAnalyzer()"
   ]
  },
  {
   "cell_type": "code",
   "execution_count": 34,
   "id": "0e73154c",
   "metadata": {},
   "outputs": [
    {
     "data": {
      "text/plain": [
       "{'neg': 0.0, 'neu': 0.288, 'pos': 0.712, 'compound': 0.8126}"
      ]
     },
     "execution_count": 34,
     "metadata": {},
     "output_type": "execute_result"
    }
   ],
   "source": [
    "sia.polarity_scores('this is fun and awesome')"
   ]
  },
  {
   "cell_type": "code",
   "execution_count": null,
   "id": "c9b5cab5",
   "metadata": {},
   "outputs": [],
   "source": []
  }
 ],
 "metadata": {
  "kernelspec": {
   "display_name": "Python 3 (ipykernel)",
   "language": "python",
   "name": "python3"
  },
  "language_info": {
   "codemirror_mode": {
    "name": "ipython",
    "version": 3
   },
   "file_extension": ".py",
   "mimetype": "text/x-python",
   "name": "python",
   "nbconvert_exporter": "python",
   "pygments_lexer": "ipython3",
   "version": "3.9.12"
  }
 },
 "nbformat": 4,
 "nbformat_minor": 5
}
