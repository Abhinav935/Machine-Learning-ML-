{
 "cells": [
  {
   "cell_type": "markdown",
   "id": "6f42ffed",
   "metadata": {},
   "source": [
    "# Project: Information Retrieval (IR)\n",
    "- Calculate the TF-IDF of the corpus form 'files/holmes'"
   ]
  },
  {
   "cell_type": "markdown",
   "id": "803e001a",
   "metadata": {},
   "source": [
    "### Step 1: Import libraries"
   ]
  },
  {
   "cell_type": "code",
   "execution_count": 6,
   "id": "401bf1c8",
   "metadata": {},
   "outputs": [
    {
     "name": "stderr",
     "output_type": "stream",
     "text": [
      "[nltk_data] Downloading package punkt to /home/adel/nltk_data...\n",
      "[nltk_data]   Package punkt is already up-to-date!\n"
     ]
    },
    {
     "data": {
      "text/plain": [
       "True"
      ]
     },
     "execution_count": 6,
     "metadata": {},
     "output_type": "execute_result"
    }
   ],
   "source": [
    "import os\n",
    "import math\n",
    "import nltk\n",
    "nltk.download('punkt')"
   ]
  },
  {
   "cell_type": "markdown",
   "id": "fa401848",
   "metadata": {},
   "source": [
    "### Step 2: Read the corpus\n",
    "- Read all the Sherlock Holmes texts in files/holmes/\n",
    "- Create a dictionary (dict) calleds corpus\n",
    "- Use os.listdir(...) ([docs](https://docs.python.org/3/library/os.html)) to iterate over all the filenames in 'files/holmes'\n",
    "- For each filename open the file and read the content and add it to the **corpus[filename]**"
   ]
  },
  {
   "cell_type": "code",
   "execution_count": 7,
   "id": "782c0503",
   "metadata": {},
   "outputs": [],
   "source": [
    "corpus = {}\n",
    "\n",
    "for filename in os.listdir('files/holmes/'):\n",
    "  with open(f'files/holmes/{filename}') as f:\n",
    "    corpus[filename] = f.read()"
   ]
  },
  {
   "cell_type": "code",
   "execution_count": null,
   "id": "8ffb7167",
   "metadata": {},
   "outputs": [],
   "source": []
  },
  {
   "cell_type": "markdown",
   "id": "8b4ec6ab",
   "metadata": {},
   "source": [
    "### Step 3: Tokenize the content\n",
    "- Iterate over **filename** in **corpus**\n",
    "- For each filename assign **corpus[filename]** to be the list of word (in lower) for word in word_tokenize(...) of the content of filename if word is alpha.\n",
    "    - HINT: Use list comprehension\n",
    "    - HINT: Use **.isalpha()**"
   ]
  },
  {
   "cell_type": "code",
   "execution_count": 8,
   "id": "a099db29",
   "metadata": {},
   "outputs": [],
   "source": [
    "for filename in corpus:\n",
    "  corpus[filename] = [word.lower() for word in nltk.word_tokenize(corpus[filename]) if word.isalpha()]"
   ]
  },
  {
   "cell_type": "code",
   "execution_count": null,
   "id": "c7e668f7",
   "metadata": {},
   "outputs": [],
   "source": []
  },
  {
   "cell_type": "markdown",
   "id": "dd72c541",
   "metadata": {},
   "source": [
    "### Step 4: Get all words\n",
    "- Create a set **words**\n",
    "    - HINT: **words = set()**\n",
    "- For each **filename** in **corpus** update the set **words** with the content\n",
    "    - HINT: apply **update(...)**"
   ]
  },
  {
   "cell_type": "code",
   "execution_count": 9,
   "id": "236a2030",
   "metadata": {},
   "outputs": [],
   "source": [
    "words = set()\n",
    "for filename in corpus:\n",
    "  words.update(corpus[filename])"
   ]
  },
  {
   "cell_type": "code",
   "execution_count": null,
   "id": "5f68db39",
   "metadata": {},
   "outputs": [],
   "source": []
  },
  {
   "cell_type": "markdown",
   "id": "2e74793c",
   "metadata": {},
   "source": [
    "### Step 5: Calculate term frequency (TF)\n",
    "- Createa empty dictionary (dict) called **tf**\n",
    "- Iterate over **filename** in **corpus**\n",
    "- For each filename add **tf[filename]** with the word frequency.\n",
    "    - HINT: Use dict comprehension with **word** in **words**"
   ]
  },
  {
   "cell_type": "code",
   "execution_count": 10,
   "id": "20e4017d",
   "metadata": {},
   "outputs": [],
   "source": [
    "tf = {}\n",
    "\n",
    "for filename in corpus:\n",
    "  tf[filename] = {word: corpus[filename].count(word) for word in words}"
   ]
  },
  {
   "cell_type": "code",
   "execution_count": null,
   "id": "28b0167b",
   "metadata": {},
   "outputs": [],
   "source": []
  },
  {
   "cell_type": "markdown",
   "id": "f4bf275e",
   "metadata": {},
   "source": [
    "### Step 6: Calculate the inverse document frequency (IDF)\n",
    "- Create an empty dictionary called **idf**\n",
    "- Iterate **word** in **words**\n",
    "- For each **word** calculate the number of documents word is in the corpus\n",
    "    - HINT: **freq = sum(word in corpus[filename] for filename in corpus)**\n",
    "- Update **idf[word]** to be the logarithm of number of documents divided by the calcualted frequency."
   ]
  },
  {
   "cell_type": "code",
   "execution_count": 11,
   "id": "eecb6845",
   "metadata": {},
   "outputs": [],
   "source": [
    "idf = {}\n",
    "\n",
    "for word in words:\n",
    "  freq = sum(word in corpus[filename] for filename in corpus)\n",
    "  idf[word] = math.log(len(corpus) / freq)"
   ]
  },
  {
   "cell_type": "code",
   "execution_count": null,
   "id": "fdde41de",
   "metadata": {},
   "outputs": [],
   "source": []
  },
  {
   "cell_type": "markdown",
   "id": "e84cef46",
   "metadata": {},
   "source": [
    "### Step 7: Calculate the Term Frequence-Inverse Document Frequency (TF-IDF)\n",
    "- Create a dictionary tfidf\n",
    "- Iterate over **filename** in **corpus**\n",
    "- For each **filename** calculate the TF-IDF for each word and add it as pairs **(word, tf-idf)**\n",
    "    - HINT: Use list comprehension **[(word, tf[filename][word] * idf[word]) for word in words]**"
   ]
  },
  {
   "cell_type": "code",
   "execution_count": 12,
   "id": "dbe279e5",
   "metadata": {},
   "outputs": [],
   "source": [
    "tfidf = {}\n",
    "\n",
    "for filename in corpus:\n",
    "  tfidf[filename] = [(word, tf[filename][word] * idf[word]) for word in words]"
   ]
  },
  {
   "cell_type": "code",
   "execution_count": null,
   "id": "3ccdc583",
   "metadata": {},
   "outputs": [],
   "source": []
  },
  {
   "cell_type": "markdown",
   "id": "3694d85d",
   "metadata": {},
   "source": [
    "### Step 8: Sort the values\n",
    "- Iterate over **filename** in **corpus**\n",
    "- For each **filename** sort the values in **tfidf** by second item in reverse order\n",
    "    - HINT: Use **sorted** ([docs](https://docs.python.org/3/howto/sorting.html)) with **key=lambda x: x[1]** and **reverse=True**"
   ]
  },
  {
   "cell_type": "code",
   "execution_count": 13,
   "id": "5dc84f1d",
   "metadata": {},
   "outputs": [],
   "source": [
    "for filename in corpus:\n",
    "  tfidf[filename] = sorted(tfidf[filename], key=lambda x: x[1], reverse=True)"
   ]
  },
  {
   "cell_type": "code",
   "execution_count": null,
   "id": "1c13989a",
   "metadata": {},
   "outputs": [],
   "source": []
  },
  {
   "cell_type": "markdown",
   "id": "d2c17b08",
   "metadata": {},
   "source": [
    "### Step 9: Print the top five words\n",
    "- Iterate **filename** in **corpus**\n",
    "- For each **filename** print the filename and iterate over the first file elements of **tfidf[filename]** and print the **term** and **score**"
   ]
  },
  {
   "cell_type": "code",
   "execution_count": 14,
   "id": "4f09efec",
   "metadata": {},
   "outputs": [
    {
     "name": "stdout",
     "output_type": "stream",
     "text": [
      "gloria_scott.txt\n",
      " trevor: 70.02401606763873\n",
      " beddoes: 33.489746814957655\n",
      " hudson: 24.396436929918487\n",
      " prendergast: 21.31165706406396\n",
      " boat: 18.81100205730782\n",
      "crooked.txt\n",
      " barclay: 103.51376288259638\n",
      " colonel: 25.05525936990736\n",
      " aldershot: 18.81100205730782\n",
      " nancy: 18.26713462634054\n",
      " regiment: 14.108251542980867\n",
      "bohemia.txt\n",
      " majesty: 54.80140387902161\n",
      " briony: 33.489746814957655\n",
      " irene: 32.919253600288684\n",
      " adler: 30.56787834312521\n",
      " photograph: 26.30802233840273\n",
      "squires.txt\n",
      " cunningham: 94.3801955694261\n",
      " alec: 57.845926316745036\n",
      " acton: 45.667836565851346\n",
      " william: 31.506333455467118\n",
      " colonel: 31.3190742123842\n",
      "patient.txt\n",
      " blessington: 79.157583380809\n",
      " trevelyan: 48.71235900357477\n",
      " brook: 24.356179501787384\n",
      " consultation: 15.222612188617115\n",
      " resident: 14.108251542980867\n",
      "speckled.txt\n",
      " roylott: 60.89044875446846\n",
      " stoner: 57.845926316745036\n",
      " ventilator: 42.62331412812792\n",
      " stepfather: 36.53426925268108\n",
      " stoke: 33.489746814957655\n",
      "twisted.txt\n",
      " clair: 82.20210581853242\n",
      " neville: 57.845926316745036\n",
      " lascar: 36.53426925268108\n",
      " opium: 25.865127828798254\n",
      " whitney: 24.356179501787384\n",
      "interpreter.txt\n",
      " melas: 57.845926316745036\n",
      " mycroft: 49.37888040043303\n",
      " greek: 37.62200411461564\n",
      " interpreter: 33.489746814957655\n",
      " latimer: 21.31165706406396\n",
      "coronet.txt\n",
      " coronet: 82.20210581853242\n",
      " arthur: 44.676129886106075\n",
      " gems: 39.5787916904045\n",
      " holder: 29.848105378863583\n",
      " snow: 23.513752571634775\n",
      "treaty.txt\n",
      " phelps: 118.7363750712135\n",
      " joseph: 70.02401606763873\n",
      " harrison: 60.89044875446846\n",
      " woking: 42.62331412812792\n",
      " holdhurst: 42.62331412812792\n",
      "bachelor.txt\n",
      " simon: 121.78089750893692\n",
      " doran: 36.53426925268108\n",
      " lestrade: 32.919253600288684\n",
      " wedding: 30.56787834312521\n",
      " lord: 29.655425113552127\n",
      "blaze.txt\n",
      " straker: 115.69185263349007\n",
      " colonel: 55.121570613796194\n",
      " horse: 54.93061443340549\n",
      " trainer: 51.75688144129819\n",
      " moor: 48.71235900357477\n",
      "face.txt\n",
      " cottage: 56.433006171923466\n",
      " munro: 18.81100205730782\n",
      " jack: 18.240508842638857\n",
      " grant: 16.459626800144342\n",
      " effie: 15.222612188617115\n",
      "league.txt\n",
      " wilson: 42.81002327921689\n",
      " league: 37.62200411461564\n",
      " merryweather: 36.53426925268108\n",
      " jones: 33.489746814957655\n",
      " assistant: 32.919253600288684\n",
      "boscombe.txt\n",
      " mccarthy: 112.64733019576666\n",
      " lestrade: 56.433006171923466\n",
      " turner: 49.37888040043303\n",
      " boscombe: 45.667836565851346\n",
      " pool: 42.3247546289426\n",
      "problem.txt\n",
      " moriarty: 60.89044875446846\n",
      " professor: 28.216503085961733\n",
      " spray: 18.26713462634054\n",
      " rock: 18.26713462634054\n",
      " meiringen: 15.222612188617115\n",
      "engineer.txt\n",
      " hydraulic: 30.44522437723423\n",
      " stark: 27.400701939510807\n",
      " eyford: 27.400701939510807\n",
      " colonel: 25.05525936990736\n",
      " engineer: 24.356179501787384\n",
      "ritual.txt\n",
      " brunton: 70.02401606763873\n",
      " musgrave: 61.13575668625042\n",
      " ritual: 35.27062885745217\n",
      " hurlstone: 27.400701939510807\n",
      " butler: 21.52626787933984\n",
      "carbuncle.txt\n",
      " goose: 61.13575668625042\n",
      " geese: 51.75688144129819\n",
      " horner: 39.5787916904045\n",
      " ryder: 36.53426925268108\n",
      " peterson: 33.489746814957655\n",
      "copper.txt\n",
      " rucastle: 115.69185263349007\n",
      " hunter: 51.73025565759651\n",
      " toller: 45.667836565851346\n",
      " beeches: 25.865127828798254\n",
      " copper: 25.865127828798254\n",
      "clerk.txt\n",
      " pycroft: 70.02401606763873\n",
      " mawson: 51.75688144129819\n",
      " pinner: 25.865127828798254\n",
      " hardware: 21.31165706406396\n",
      " birmingham: 21.1623773144713\n"
     ]
    }
   ],
   "source": [
    "for filename in corpus:\n",
    "  print(filename)\n",
    "  for term, score in tfidf[filename][:5]:\n",
    "    print(f' {term}: {score}')"
   ]
  },
  {
   "cell_type": "code",
   "execution_count": null,
   "id": "9971bb74",
   "metadata": {},
   "outputs": [],
   "source": []
  },
  {
   "cell_type": "code",
   "execution_count": null,
   "id": "d7c198cd",
   "metadata": {},
   "outputs": [],
   "source": []
  }
 ],
 "metadata": {
  "kernelspec": {
   "display_name": "Python 3",
   "language": "python",
   "name": "python3"
  },
  "language_info": {
   "codemirror_mode": {
    "name": "ipython",
    "version": 3
   },
   "file_extension": ".py",
   "mimetype": "text/x-python",
   "name": "python",
   "nbconvert_exporter": "python",
   "pygments_lexer": "ipython3",
   "version": "3.9.12"
  }
 },
 "nbformat": 4,
 "nbformat_minor": 5
}
