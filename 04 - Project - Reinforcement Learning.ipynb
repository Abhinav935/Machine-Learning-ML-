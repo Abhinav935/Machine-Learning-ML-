{
 "cells": [
  {
   "cell_type": "markdown",
   "id": "fa880c3e",
   "metadata": {},
   "source": [
    "# Project: Reinforcement Learning\n",
    "- Bigger field - more learning"
   ]
  },
  {
   "cell_type": "markdown",
   "id": "39b3c535",
   "metadata": {},
   "source": [
    "### Project field\n",
    "- Use Reinforcement Learning with Q-learning to find solutions to this field.\n",
    "![Field](img/field-2.png \"Field\")"
   ]
  },
  {
   "cell_type": "markdown",
   "id": "effaa2b7",
   "metadata": {},
   "source": [
    "### Step 1: Import libraries"
   ]
  },
  {
   "cell_type": "code",
   "execution_count": 1,
   "id": "dad84ded",
   "metadata": {},
   "outputs": [],
   "source": [
    "import numpy as np\n",
    "import random"
   ]
  },
  {
   "cell_type": "markdown",
   "id": "5ae15067",
   "metadata": {},
   "source": [
    "### Step 2: Create a field\n",
    "\n",
    "![Field](img/field-3.png)"
   ]
  },
  {
   "cell_type": "markdown",
   "id": "6ea04310",
   "metadata": {},
   "source": [
    "- **__init__**:\n",
    "    - Use a list of list with integer values to represent all the states\n",
    "        - Goal end state should be 1, illegal states -1, other states 0\n",
    "    - Set the state to be random fo the size of states\n",
    "- **done**:\n",
    "    - Check if current state has non-negative values\n",
    "- **get_possible_actions**:\n",
    "    - Set a list to all possible actions **actions = [0, 1, 2, 3]**\n",
    "        - action = 0 is left\n",
    "        - action = 1 is right\n",
    "        - action = 2 is up\n",
    "        - action = 3 is down\n",
    "    - Then check if state is in a position where a possible actions should be removed.\n",
    "    - Finally, return the remaining actions\n",
    "- **update_next_state**:\n",
    "    - Get the current state\n",
    "    - Check if move is illegal, then return current state and -10 in reward\n",
    "    - Otherwise opdate state and return the reward according to new state"
   ]
  },
  {
   "cell_type": "code",
   "execution_count": 2,
   "id": "04c96397",
   "metadata": {},
   "outputs": [],
   "source": [
    "class Field:\n",
    "    def __init__(self) -> None:\n",
    "        \"\"\"\n",
    "        Initialize field and set a random start state\n",
    "        \"\"\"\n",
    "        self.states = [\n",
    "            [-1, 0, 0, 0, 0, 0, 0, 0, 0, 0, 0, 0],\n",
    "            [-1, 0, 0, 0, 0, 0, 0, 0, 1, 0, 0, 0],\n",
    "            [0, 0, 0, 0, 0, 0, 0, 0, 0, 0, 0, 0]\n",
    "            ]\n",
    "        self.state = (random.randrange(0, len(self.states)), random.randrange(0, len(self.states[0])))\n",
    "    \n",
    "    def done(self):\n",
    "        \"\"\"\n",
    "        Check if it isn't in a neutral state\n",
    "        \"\"\"\n",
    "        if self.states[self.state[0]][self.state[1]] != 0:\n",
    "            return True\n",
    "        else:\n",
    "            return False\n",
    "    \n",
    "    def get_possible_actions(self):\n",
    "        \"\"\"\n",
    "        Return possible actions in state\n",
    "\n",
    "        Action:\n",
    "               0 => left\n",
    "               1 => right\n",
    "               2 => up\n",
    "               3 => down\n",
    "        \"\"\"    \n",
    "        actions = [0, 1, 2, 3]\n",
    "        if self.state[0] == 0:\n",
    "            actions.remove(2)\n",
    "        if self.state[0] == len(self.states) -1:\n",
    "            actions.remove(3)\n",
    "        if self.state[1] == 0:\n",
    "            actions.remove(0)\n",
    "        if self.state[1] == len(self.states[0]) -1:\n",
    "            actions.remove(1)\n",
    "        return actions\n",
    "\n",
    "    def update_next_state(self, action):\n",
    "        \"\"\" \n",
    "        Update state according to action -> Return state and reward\n",
    "        \"\"\"\n",
    "        x, y = self.state\n",
    "\n",
    "        if action == 0:\n",
    "            if y == 0:\n",
    "                return self.state, -10\n",
    "            self.state = x, y - 1\n",
    "        if action == 1:\n",
    "            if y == len(self.states) -1:\n",
    "                return self.state, -10\n",
    "            self.state = x, y + 1\n",
    "        if action == 2:\n",
    "            if x == 0:\n",
    "                return self.state, -10\n",
    "            self.state = x - 1, y\n",
    "        if action == 3:\n",
    "            if self.state == len(self.states) -1:\n",
    "                return self.state, -10\n",
    "            self.state = x + 1, y        \n",
    "        reward = self.states[self.state[0]][self.state[1]]\n",
    "        return self.state, reward"
   ]
  },
  {
   "cell_type": "code",
   "execution_count": 3,
   "id": "24a0ca19",
   "metadata": {},
   "outputs": [
    {
     "data": {
      "text/plain": [
       "((1, 2), False, [0, 1, 2, 3])"
      ]
     },
     "execution_count": 3,
     "metadata": {},
     "output_type": "execute_result"
    }
   ],
   "source": [
    "field = Field()\n",
    "field.state, field.done(), field.get_possible_actions()"
   ]
  },
  {
   "cell_type": "code",
   "execution_count": 4,
   "id": "f2fa616f",
   "metadata": {},
   "outputs": [
    {
     "data": {
      "text/plain": [
       "((0, 2), False, [0, 1, 3])"
      ]
     },
     "execution_count": 4,
     "metadata": {},
     "output_type": "execute_result"
    }
   ],
   "source": [
    " field.update_next_state(2)\n",
    " field.state, field.done(), field.get_possible_actions()"
   ]
  },
  {
   "cell_type": "markdown",
   "id": "e2cf74c6",
   "metadata": {},
   "source": [
    "### Step 3: Train the model\n",
    "- Create a $q$-table initialized to all 0\n",
    "    - Use **q_table = np.zeros(...)** *(insert values for ...)*\n",
    "- Set **alpha = .5, gamma = 0.5,** and **epsilon = 0.5**\n",
    "- Create *for*-loop iterating 10000\n",
    "    - Create new field\n",
    "    - While field not done\n",
    "        - Get possible actions and assign to **actions**\n",
    "        - With probability epsilon take a random action, otherwise take the best action\n",
    "            - HINT: **random.uniform(0, 1) < epsilon**\n",
    "            - HINT: Random action: **random.choice(actions)**, and best action: **np.argmax(q_table[field.state])**\n",
    "        - Get current state and assign it to **cur_x, cur_y**\n",
    "        - Update next state and get it and the reward\n",
    "        - Update **q_table[cur_x, cur_y, action] = (1 - alpha)*q_table[cur_x, cur_y, action] + alpha*(reward + gamma*np.max(q_table[next_x, next_y]))**"
   ]
  },
  {
   "cell_type": "code",
   "execution_count": 5,
   "id": "fe1068f0",
   "metadata": {},
   "outputs": [],
   "source": [
    "field = Field()\n",
    "q_table = np.zeros((len(field.states), len(field.states[0]), 4))\n",
    "\n",
    "alpha = .5\n",
    "epsilon = .5\n",
    "gamma = .5\n",
    "\n",
    "for _ in range(10000):\n",
    "    field = Field()\n",
    "    while not field.done():\n",
    "        actions = field.get_possible_actions()\n",
    "        if random.uniform(0, 1) < epsilon:\n",
    "            action = random.choice(actions)\n",
    "        else:\n",
    "            action = np.argmax(q_table[field.state])\n",
    "        \n",
    "        cur_x, cur_y = field.state\n",
    "        (next_x, next_y), reward = field.update_next_state(action)\n",
    "        q_table[cur_x, cur_y, action] = (1 - alpha)*q_table[cur_x, cur_y, action] + alpha*(reward + gamma*np.max(q_table[next_x, next_y]))"
   ]
  },
  {
   "cell_type": "code",
   "execution_count": 6,
   "id": "def3b371",
   "metadata": {},
   "outputs": [
    {
     "data": {
      "text/plain": [
       "array([[[  0.      ,   0.      ,   0.      ,   0.      ],\n",
       "        [ -1.      ,   0.      ,   0.      ,   0.      ],\n",
       "        [  0.      , -10.      ,   0.      ,   0.      ],\n",
       "        [  0.      ,   0.03125 ,   0.      ,   0.03125 ],\n",
       "        [  0.015625,   0.0625  ,   0.      ,   0.0625  ],\n",
       "        [  0.03125 ,   0.125   ,   0.      ,   0.125   ],\n",
       "        [  0.0625  ,   0.25    ,   0.      ,   0.25    ],\n",
       "        [  0.125   ,   0.5     ,   0.      ,   0.5     ],\n",
       "        [  0.25    ,   0.25    ,   0.      ,   1.      ],\n",
       "        [  0.5     ,   0.125   ,   0.      ,   0.5     ],\n",
       "        [  0.25    ,   0.0625  ,   0.      ,   0.25    ],\n",
       "        [  0.125   ,   0.      ,   0.      ,   0.125   ]],\n",
       "\n",
       "       [[  0.      ,   0.      ,   0.      ,   0.      ],\n",
       "        [ -1.      ,   0.      ,   0.      ,   0.      ],\n",
       "        [  0.      , -10.      ,   0.      ,   0.      ],\n",
       "        [  0.      ,   0.0625  ,   0.015625,   0.015625],\n",
       "        [  0.03125 ,   0.125   ,   0.03125 ,   0.03125 ],\n",
       "        [  0.0625  ,   0.25    ,   0.0625  ,   0.0625  ],\n",
       "        [  0.125   ,   0.5     ,   0.125   ,   0.125   ],\n",
       "        [  0.25    ,   1.      ,   0.25    ,   0.25    ],\n",
       "        [  0.      ,   0.      ,   0.      ,   0.      ],\n",
       "        [  1.      ,   0.25    ,   0.25    ,   0.25    ],\n",
       "        [  0.5     ,   0.125   ,   0.125   ,   0.125   ],\n",
       "        [  0.25    ,   0.      ,   0.0625  ,   0.0625  ]],\n",
       "\n",
       "       [[ -5.      ,   0.      ,  -1.      ,   0.      ],\n",
       "        [  0.      ,   0.      ,   0.      ,   0.      ],\n",
       "        [  0.      , -10.      ,   0.      ,   0.      ],\n",
       "        [  0.      ,   0.03125 ,   0.03125 ,   0.      ],\n",
       "        [  0.015625,   0.0625  ,   0.0625  ,   0.      ],\n",
       "        [  0.03125 ,   0.125   ,   0.125   ,   0.      ],\n",
       "        [  0.0625  ,   0.25    ,   0.25    ,   0.      ],\n",
       "        [  0.125   ,   0.5     ,   0.5     ,   0.      ],\n",
       "        [  0.25    ,   0.25    ,   1.      ,   0.      ],\n",
       "        [  0.5     ,   0.125   ,   0.5     ,   0.      ],\n",
       "        [  0.25    ,   0.0625  ,   0.25    ,   0.      ],\n",
       "        [  0.125   ,   0.      ,   0.125   ,   0.      ]]])"
      ]
     },
     "execution_count": 6,
     "metadata": {},
     "output_type": "execute_result"
    }
   ],
   "source": [
    "q_table"
   ]
  },
  {
   "cell_type": "markdown",
   "id": "83d9654e",
   "metadata": {},
   "source": [
    "### Step 4: Solve a task\n",
    "- To see the path make a variable **path = np.zeros((3, 11))**\n",
    "- Create a field **Field()**\n",
    "- To count steps assign **steps = 1**\n",
    "- Assign the start state in the path to **np.nan**.\n",
    "- The we begin: while not solved.\n",
    "    - Get the **action** to take\n",
    "    - Get the next **state**\n",
    "    - Update **path** with **steps**\n",
    "    - Increment **steps** with one\n",
    "- see the **path**"
   ]
  },
  {
   "cell_type": "code",
   "execution_count": 7,
   "id": "fd966afa",
   "metadata": {},
   "outputs": [
    {
     "ename": "IndexError",
     "evalue": "index 11 is out of bounds for axis 0 with size 11",
     "output_type": "error",
     "traceback": [
      "\u001b[0;31m---------------------------------------------------------------------------\u001b[0m",
      "\u001b[0;31mIndexError\u001b[0m                                Traceback (most recent call last)",
      "\u001b[1;32m/home/adel/Documents/Project/perso/Rune/repos/MachineLearningWithPython/04 - Project - Reinforcement Learning.ipynb Cell 14'\u001b[0m in \u001b[0;36m<cell line: 4>\u001b[0;34m()\u001b[0m\n\u001b[1;32m      <a href='vscode-notebook-cell:/home/adel/Documents/Project/perso/Rune/repos/MachineLearningWithPython/04%20-%20Project%20-%20Reinforcement%20Learning.ipynb#ch0000013?line=1'>2</a>\u001b[0m field \u001b[39m=\u001b[39m Field()\n\u001b[1;32m      <a href='vscode-notebook-cell:/home/adel/Documents/Project/perso/Rune/repos/MachineLearningWithPython/04%20-%20Project%20-%20Reinforcement%20Learning.ipynb#ch0000013?line=2'>3</a>\u001b[0m steps \u001b[39m=\u001b[39m \u001b[39m1\u001b[39m\n\u001b[0;32m----> <a href='vscode-notebook-cell:/home/adel/Documents/Project/perso/Rune/repos/MachineLearningWithPython/04%20-%20Project%20-%20Reinforcement%20Learning.ipynb#ch0000013?line=3'>4</a>\u001b[0m path[field\u001b[39m.\u001b[39mstate[\u001b[39m0\u001b[39m]][field\u001b[39m.\u001b[39mstate[\u001b[39m1\u001b[39m]] \u001b[39m=\u001b[39m np\u001b[39m.\u001b[39mnan\n\u001b[1;32m      <a href='vscode-notebook-cell:/home/adel/Documents/Project/perso/Rune/repos/MachineLearningWithPython/04%20-%20Project%20-%20Reinforcement%20Learning.ipynb#ch0000013?line=5'>6</a>\u001b[0m \u001b[39mwhile\u001b[39;00m \u001b[39mnot\u001b[39;00m field\u001b[39m.\u001b[39mdone():\n\u001b[1;32m      <a href='vscode-notebook-cell:/home/adel/Documents/Project/perso/Rune/repos/MachineLearningWithPython/04%20-%20Project%20-%20Reinforcement%20Learning.ipynb#ch0000013?line=6'>7</a>\u001b[0m     action \u001b[39m=\u001b[39m np\u001b[39m.\u001b[39margmax(q_table[field\u001b[39m.\u001b[39mstate])\n",
      "\u001b[0;31mIndexError\u001b[0m: index 11 is out of bounds for axis 0 with size 11"
     ]
    }
   ],
   "source": [
    "path = np.zeros((3, 11))\n",
    "field = Field()\n",
    "steps = 1\n",
    "path[field.state[0]][field.state[1]] = np.nan\n",
    "\n",
    "while not field.done():\n",
    "    action = np.argmax(q_table[field.state])\n",
    "\n",
    "    (next_x, next_y), _ = field.update_next_state(action)\n",
    "    path[next_x][next_y] = steps\n",
    "    steps +=1"
   ]
  },
  {
   "cell_type": "code",
   "execution_count": null,
   "id": "c4ae142e",
   "metadata": {},
   "outputs": [
    {
     "data": {
      "text/plain": [
       "array([[ 0.,  0.,  0.,  0.,  0.,  0.,  0.,  0.,  0.,  0.,  0.],\n",
       "       [ 0.,  0.,  0.,  0.,  0.,  0.,  0.,  0.,  5.,  0.,  0.],\n",
       "       [ 0.,  0.,  0.,  0., nan,  1.,  2.,  3.,  4.,  0.,  0.]])"
      ]
     },
     "execution_count": 18,
     "metadata": {},
     "output_type": "execute_result"
    }
   ],
   "source": [
    "path"
   ]
  },
  {
   "cell_type": "markdown",
   "id": "021fd13f",
   "metadata": {},
   "source": [
    "> ### Note\n",
    "> - The training phase (Step 3) could just take random actions\n",
    "> - Our example (Step 4) does not learn anything new"
   ]
  },
  {
   "cell_type": "code",
   "execution_count": null,
   "id": "81d50a73",
   "metadata": {},
   "outputs": [],
   "source": []
  }
 ],
 "metadata": {
  "interpreter": {
   "hash": "746800f96ece29ab8b5df47a779cb8f76655f7cf39bc7615a93fb17b55f50443"
  },
  "kernelspec": {
   "display_name": "Python 3.9.7 64-bit ('ML_DS': conda)",
   "name": "python3"
  },
  "language_info": {
   "codemirror_mode": {
    "name": "ipython",
    "version": 3
   },
   "file_extension": ".py",
   "mimetype": "text/x-python",
   "name": "python",
   "nbconvert_exporter": "python",
   "pygments_lexer": "ipython3",
   "version": "3.9.12"
  }
 },
 "nbformat": 4,
 "nbformat_minor": 5
}
