{
 "cells": [
  {
   "cell_type": "markdown",
   "id": "1b8fe662",
   "metadata": {},
   "source": [
    "# Project - Perceptron\n",
    "- Try a Perceptron model with more dimensions"
   ]
  },
  {
   "cell_type": "markdown",
   "id": "1c6c8002",
   "metadata": {},
   "source": [
    "### Step 1: Import libraries"
   ]
  },
  {
   "cell_type": "code",
   "execution_count": 1,
   "id": "2e1c1753",
   "metadata": {},
   "outputs": [],
   "source": [
    "import pandas as pd\n",
    "import numpy as np\n",
    "from sklearn.linear_model import Perceptron\n",
    "from sklearn import metrics\n",
    "from sklearn.model_selection import train_test_split\n",
    "import matplotlib.pyplot as plt\n",
    "%matplotlib inline"
   ]
  },
  {
   "cell_type": "markdown",
   "id": "23b3991d",
   "metadata": {},
   "source": [
    "### Step 2: Read the data\n",
    "- Use Pandas [read_csv](https://pandas.pydata.org/pandas-docs/stable/reference/api/pandas.read_csv.html) method to read **files/weather.csv**\n",
    "- HINT: Use **parse_dates=True** and **index_col=0**"
   ]
  },
  {
   "cell_type": "code",
   "execution_count": 2,
   "id": "d3d98048",
   "metadata": {},
   "outputs": [],
   "source": [
    "data = pd.read_csv('files/weather.csv', parse_dates=True, index_col=0)"
   ]
  },
  {
   "cell_type": "code",
   "execution_count": 3,
   "id": "83ff3247",
   "metadata": {},
   "outputs": [
    {
     "data": {
      "text/html": [
       "<div>\n",
       "<style scoped>\n",
       "    .dataframe tbody tr th:only-of-type {\n",
       "        vertical-align: middle;\n",
       "    }\n",
       "\n",
       "    .dataframe tbody tr th {\n",
       "        vertical-align: top;\n",
       "    }\n",
       "\n",
       "    .dataframe thead th {\n",
       "        text-align: right;\n",
       "    }\n",
       "</style>\n",
       "<table border=\"1\" class=\"dataframe\">\n",
       "  <thead>\n",
       "    <tr style=\"text-align: right;\">\n",
       "      <th></th>\n",
       "      <th>MinTemp</th>\n",
       "      <th>MaxTemp</th>\n",
       "      <th>Rainfall</th>\n",
       "      <th>Evaporation</th>\n",
       "      <th>Sunshine</th>\n",
       "      <th>WindGustDir</th>\n",
       "      <th>WindGustSpeed</th>\n",
       "      <th>WindDir9am</th>\n",
       "      <th>WindDir3pm</th>\n",
       "      <th>WindSpeed9am</th>\n",
       "      <th>...</th>\n",
       "      <th>Humidity3pm</th>\n",
       "      <th>Pressure9am</th>\n",
       "      <th>Pressure3pm</th>\n",
       "      <th>Cloud9am</th>\n",
       "      <th>Cloud3pm</th>\n",
       "      <th>Temp9am</th>\n",
       "      <th>Temp3pm</th>\n",
       "      <th>RainToday</th>\n",
       "      <th>RISK_MM</th>\n",
       "      <th>RainTomorrow</th>\n",
       "    </tr>\n",
       "    <tr>\n",
       "      <th>Date</th>\n",
       "      <th></th>\n",
       "      <th></th>\n",
       "      <th></th>\n",
       "      <th></th>\n",
       "      <th></th>\n",
       "      <th></th>\n",
       "      <th></th>\n",
       "      <th></th>\n",
       "      <th></th>\n",
       "      <th></th>\n",
       "      <th></th>\n",
       "      <th></th>\n",
       "      <th></th>\n",
       "      <th></th>\n",
       "      <th></th>\n",
       "      <th></th>\n",
       "      <th></th>\n",
       "      <th></th>\n",
       "      <th></th>\n",
       "      <th></th>\n",
       "      <th></th>\n",
       "    </tr>\n",
       "  </thead>\n",
       "  <tbody>\n",
       "    <tr>\n",
       "      <th>2008-02-01</th>\n",
       "      <td>19.5</td>\n",
       "      <td>22.4</td>\n",
       "      <td>15.6</td>\n",
       "      <td>6.2</td>\n",
       "      <td>0.0</td>\n",
       "      <td>NaN</td>\n",
       "      <td>NaN</td>\n",
       "      <td>S</td>\n",
       "      <td>SSW</td>\n",
       "      <td>17.0</td>\n",
       "      <td>...</td>\n",
       "      <td>84.0</td>\n",
       "      <td>1017.6</td>\n",
       "      <td>1017.4</td>\n",
       "      <td>8.0</td>\n",
       "      <td>8.0</td>\n",
       "      <td>20.7</td>\n",
       "      <td>20.9</td>\n",
       "      <td>Yes</td>\n",
       "      <td>6.0</td>\n",
       "      <td>Yes</td>\n",
       "    </tr>\n",
       "    <tr>\n",
       "      <th>2008-02-02</th>\n",
       "      <td>19.5</td>\n",
       "      <td>25.6</td>\n",
       "      <td>6.0</td>\n",
       "      <td>3.4</td>\n",
       "      <td>2.7</td>\n",
       "      <td>NaN</td>\n",
       "      <td>NaN</td>\n",
       "      <td>W</td>\n",
       "      <td>E</td>\n",
       "      <td>9.0</td>\n",
       "      <td>...</td>\n",
       "      <td>73.0</td>\n",
       "      <td>1017.9</td>\n",
       "      <td>1016.4</td>\n",
       "      <td>7.0</td>\n",
       "      <td>7.0</td>\n",
       "      <td>22.4</td>\n",
       "      <td>24.8</td>\n",
       "      <td>Yes</td>\n",
       "      <td>6.6</td>\n",
       "      <td>Yes</td>\n",
       "    </tr>\n",
       "    <tr>\n",
       "      <th>2008-02-03</th>\n",
       "      <td>21.6</td>\n",
       "      <td>24.5</td>\n",
       "      <td>6.6</td>\n",
       "      <td>2.4</td>\n",
       "      <td>0.1</td>\n",
       "      <td>NaN</td>\n",
       "      <td>NaN</td>\n",
       "      <td>ESE</td>\n",
       "      <td>ESE</td>\n",
       "      <td>17.0</td>\n",
       "      <td>...</td>\n",
       "      <td>86.0</td>\n",
       "      <td>1016.7</td>\n",
       "      <td>1015.6</td>\n",
       "      <td>7.0</td>\n",
       "      <td>8.0</td>\n",
       "      <td>23.5</td>\n",
       "      <td>23.0</td>\n",
       "      <td>Yes</td>\n",
       "      <td>18.8</td>\n",
       "      <td>Yes</td>\n",
       "    </tr>\n",
       "    <tr>\n",
       "      <th>2008-02-04</th>\n",
       "      <td>20.2</td>\n",
       "      <td>22.8</td>\n",
       "      <td>18.8</td>\n",
       "      <td>2.2</td>\n",
       "      <td>0.0</td>\n",
       "      <td>NaN</td>\n",
       "      <td>NaN</td>\n",
       "      <td>NNE</td>\n",
       "      <td>E</td>\n",
       "      <td>22.0</td>\n",
       "      <td>...</td>\n",
       "      <td>90.0</td>\n",
       "      <td>1014.2</td>\n",
       "      <td>1011.8</td>\n",
       "      <td>8.0</td>\n",
       "      <td>8.0</td>\n",
       "      <td>21.4</td>\n",
       "      <td>20.9</td>\n",
       "      <td>Yes</td>\n",
       "      <td>77.4</td>\n",
       "      <td>Yes</td>\n",
       "    </tr>\n",
       "    <tr>\n",
       "      <th>2008-02-05</th>\n",
       "      <td>19.7</td>\n",
       "      <td>25.7</td>\n",
       "      <td>77.4</td>\n",
       "      <td>NaN</td>\n",
       "      <td>0.0</td>\n",
       "      <td>NaN</td>\n",
       "      <td>NaN</td>\n",
       "      <td>NNE</td>\n",
       "      <td>W</td>\n",
       "      <td>11.0</td>\n",
       "      <td>...</td>\n",
       "      <td>74.0</td>\n",
       "      <td>1008.3</td>\n",
       "      <td>1004.8</td>\n",
       "      <td>8.0</td>\n",
       "      <td>8.0</td>\n",
       "      <td>22.5</td>\n",
       "      <td>25.5</td>\n",
       "      <td>Yes</td>\n",
       "      <td>1.6</td>\n",
       "      <td>Yes</td>\n",
       "    </tr>\n",
       "  </tbody>\n",
       "</table>\n",
       "<p>5 rows × 22 columns</p>\n",
       "</div>"
      ],
      "text/plain": [
       "            MinTemp  MaxTemp  Rainfall  Evaporation  Sunshine WindGustDir  \\\n",
       "Date                                                                        \n",
       "2008-02-01     19.5     22.4      15.6          6.2       0.0         NaN   \n",
       "2008-02-02     19.5     25.6       6.0          3.4       2.7         NaN   \n",
       "2008-02-03     21.6     24.5       6.6          2.4       0.1         NaN   \n",
       "2008-02-04     20.2     22.8      18.8          2.2       0.0         NaN   \n",
       "2008-02-05     19.7     25.7      77.4          NaN       0.0         NaN   \n",
       "\n",
       "            WindGustSpeed WindDir9am WindDir3pm  WindSpeed9am  ...  \\\n",
       "Date                                                           ...   \n",
       "2008-02-01            NaN          S        SSW          17.0  ...   \n",
       "2008-02-02            NaN          W          E           9.0  ...   \n",
       "2008-02-03            NaN        ESE        ESE          17.0  ...   \n",
       "2008-02-04            NaN        NNE          E          22.0  ...   \n",
       "2008-02-05            NaN        NNE          W          11.0  ...   \n",
       "\n",
       "            Humidity3pm  Pressure9am  Pressure3pm  Cloud9am  Cloud3pm  \\\n",
       "Date                                                                    \n",
       "2008-02-01         84.0       1017.6       1017.4       8.0       8.0   \n",
       "2008-02-02         73.0       1017.9       1016.4       7.0       7.0   \n",
       "2008-02-03         86.0       1016.7       1015.6       7.0       8.0   \n",
       "2008-02-04         90.0       1014.2       1011.8       8.0       8.0   \n",
       "2008-02-05         74.0       1008.3       1004.8       8.0       8.0   \n",
       "\n",
       "            Temp9am  Temp3pm  RainToday  RISK_MM RainTomorrow  \n",
       "Date                                                           \n",
       "2008-02-01     20.7     20.9        Yes      6.0          Yes  \n",
       "2008-02-02     22.4     24.8        Yes      6.6          Yes  \n",
       "2008-02-03     23.5     23.0        Yes     18.8          Yes  \n",
       "2008-02-04     21.4     20.9        Yes     77.4          Yes  \n",
       "2008-02-05     22.5     25.5        Yes      1.6          Yes  \n",
       "\n",
       "[5 rows x 22 columns]"
      ]
     },
     "execution_count": 3,
     "metadata": {},
     "output_type": "execute_result"
    }
   ],
   "source": [
    "data.head()"
   ]
  },
  {
   "cell_type": "markdown",
   "id": "276d6763",
   "metadata": {},
   "source": [
    "### Step 3: Investigate data\n",
    "- Look for missing data points\n",
    "- You can do that by applying **isna()** and **sum()**, which will give a summary of rows missing data for each column.\n",
    "    - Resource: [isna()](https://pandas.pydata.org/docs/reference/api/pandas.DataFrame.isna.html)\n",
    "    - Resource: [sum()](https://pandas.pydata.org/docs/reference/api/pandas.DataFrame.sum.html)"
   ]
  },
  {
   "cell_type": "code",
   "execution_count": 4,
   "id": "ff620c74",
   "metadata": {},
   "outputs": [
    {
     "data": {
      "text/plain": [
       "MinTemp             3\n",
       "MaxTemp             2\n",
       "Rainfall            6\n",
       "Evaporation        51\n",
       "Sunshine           16\n",
       "WindGustDir      1036\n",
       "WindGustSpeed    1036\n",
       "WindDir9am         56\n",
       "WindDir3pm         33\n",
       "WindSpeed9am       26\n",
       "WindSpeed3pm       25\n",
       "Humidity9am        14\n",
       "Humidity3pm        13\n",
       "Pressure9am        20\n",
       "Pressure3pm        19\n",
       "Cloud9am          566\n",
       "Cloud3pm          561\n",
       "Temp9am             4\n",
       "Temp3pm             4\n",
       "RainToday           6\n",
       "RISK_MM             0\n",
       "RainTomorrow        0\n",
       "dtype: int64"
      ]
     },
     "execution_count": 4,
     "metadata": {},
     "output_type": "execute_result"
    }
   ],
   "source": [
    "data.isna().sum()"
   ]
  },
  {
   "cell_type": "code",
   "execution_count": 5,
   "id": "32f0c679",
   "metadata": {},
   "outputs": [
    {
     "data": {
      "text/plain": [
       "MinTemp             3\n",
       "MaxTemp             2\n",
       "Rainfall            6\n",
       "Evaporation        51\n",
       "Sunshine           16\n",
       "WindGustDir      1036\n",
       "WindGustSpeed    1036\n",
       "WindDir9am         56\n",
       "WindDir3pm         33\n",
       "WindSpeed9am       26\n",
       "WindSpeed3pm       25\n",
       "Humidity9am        14\n",
       "Humidity3pm        13\n",
       "Pressure9am        20\n",
       "Pressure3pm        19\n",
       "Cloud9am          566\n",
       "Cloud3pm          561\n",
       "Temp9am             4\n",
       "Temp3pm             4\n",
       "RainToday           6\n",
       "RISK_MM             0\n",
       "RainTomorrow        0\n",
       "dtype: int64"
      ]
     },
     "execution_count": 5,
     "metadata": {},
     "output_type": "execute_result"
    }
   ],
   "source": [
    "data.isnull().sum()"
   ]
  },
  {
   "cell_type": "markdown",
   "id": "01a32b51",
   "metadata": {},
   "source": [
    "### Step 4: Remove 'dirty' columns \n",
    "- Make a choice and remove columns with too many entries with NaN.\n",
    "- Say, take all columns with more than 100 rows.\n",
    "- Also, you can remove rows with non-numeric values (remember to keep **RainTomorrow**)\n",
    "- To remove rows use [drop(columns, axis=1)](https://pandas.pydata.org/pandas-docs/stable/reference/api/pandas.DataFrame.drop.html)"
   ]
  },
  {
   "cell_type": "code",
   "execution_count": 6,
   "id": "738c0684",
   "metadata": {},
   "outputs": [],
   "source": [
    "dataset = data.drop(['WindGustDir', 'WindGustSpeed', 'Cloud9am', 'Cloud3pm', 'WindDir9am', 'WindDir3pm', 'RainToday'], axis=1)"
   ]
  },
  {
   "cell_type": "code",
   "execution_count": 7,
   "id": "b35c77d9",
   "metadata": {},
   "outputs": [
    {
     "data": {
      "text/html": [
       "<div>\n",
       "<style scoped>\n",
       "    .dataframe tbody tr th:only-of-type {\n",
       "        vertical-align: middle;\n",
       "    }\n",
       "\n",
       "    .dataframe tbody tr th {\n",
       "        vertical-align: top;\n",
       "    }\n",
       "\n",
       "    .dataframe thead th {\n",
       "        text-align: right;\n",
       "    }\n",
       "</style>\n",
       "<table border=\"1\" class=\"dataframe\">\n",
       "  <thead>\n",
       "    <tr style=\"text-align: right;\">\n",
       "      <th></th>\n",
       "      <th>MinTemp</th>\n",
       "      <th>MaxTemp</th>\n",
       "      <th>Rainfall</th>\n",
       "      <th>Evaporation</th>\n",
       "      <th>Sunshine</th>\n",
       "      <th>WindSpeed9am</th>\n",
       "      <th>WindSpeed3pm</th>\n",
       "      <th>Humidity9am</th>\n",
       "      <th>Humidity3pm</th>\n",
       "      <th>Pressure9am</th>\n",
       "      <th>Pressure3pm</th>\n",
       "      <th>Temp9am</th>\n",
       "      <th>Temp3pm</th>\n",
       "      <th>RISK_MM</th>\n",
       "      <th>RainTomorrow</th>\n",
       "    </tr>\n",
       "    <tr>\n",
       "      <th>Date</th>\n",
       "      <th></th>\n",
       "      <th></th>\n",
       "      <th></th>\n",
       "      <th></th>\n",
       "      <th></th>\n",
       "      <th></th>\n",
       "      <th></th>\n",
       "      <th></th>\n",
       "      <th></th>\n",
       "      <th></th>\n",
       "      <th></th>\n",
       "      <th></th>\n",
       "      <th></th>\n",
       "      <th></th>\n",
       "      <th></th>\n",
       "    </tr>\n",
       "  </thead>\n",
       "  <tbody>\n",
       "    <tr>\n",
       "      <th>2008-02-01</th>\n",
       "      <td>19.5</td>\n",
       "      <td>22.4</td>\n",
       "      <td>15.6</td>\n",
       "      <td>6.2</td>\n",
       "      <td>0.0</td>\n",
       "      <td>17.0</td>\n",
       "      <td>20.0</td>\n",
       "      <td>92.0</td>\n",
       "      <td>84.0</td>\n",
       "      <td>1017.6</td>\n",
       "      <td>1017.4</td>\n",
       "      <td>20.7</td>\n",
       "      <td>20.9</td>\n",
       "      <td>6.0</td>\n",
       "      <td>Yes</td>\n",
       "    </tr>\n",
       "    <tr>\n",
       "      <th>2008-02-02</th>\n",
       "      <td>19.5</td>\n",
       "      <td>25.6</td>\n",
       "      <td>6.0</td>\n",
       "      <td>3.4</td>\n",
       "      <td>2.7</td>\n",
       "      <td>9.0</td>\n",
       "      <td>13.0</td>\n",
       "      <td>83.0</td>\n",
       "      <td>73.0</td>\n",
       "      <td>1017.9</td>\n",
       "      <td>1016.4</td>\n",
       "      <td>22.4</td>\n",
       "      <td>24.8</td>\n",
       "      <td>6.6</td>\n",
       "      <td>Yes</td>\n",
       "    </tr>\n",
       "    <tr>\n",
       "      <th>2008-02-03</th>\n",
       "      <td>21.6</td>\n",
       "      <td>24.5</td>\n",
       "      <td>6.6</td>\n",
       "      <td>2.4</td>\n",
       "      <td>0.1</td>\n",
       "      <td>17.0</td>\n",
       "      <td>2.0</td>\n",
       "      <td>88.0</td>\n",
       "      <td>86.0</td>\n",
       "      <td>1016.7</td>\n",
       "      <td>1015.6</td>\n",
       "      <td>23.5</td>\n",
       "      <td>23.0</td>\n",
       "      <td>18.8</td>\n",
       "      <td>Yes</td>\n",
       "    </tr>\n",
       "    <tr>\n",
       "      <th>2008-02-04</th>\n",
       "      <td>20.2</td>\n",
       "      <td>22.8</td>\n",
       "      <td>18.8</td>\n",
       "      <td>2.2</td>\n",
       "      <td>0.0</td>\n",
       "      <td>22.0</td>\n",
       "      <td>20.0</td>\n",
       "      <td>83.0</td>\n",
       "      <td>90.0</td>\n",
       "      <td>1014.2</td>\n",
       "      <td>1011.8</td>\n",
       "      <td>21.4</td>\n",
       "      <td>20.9</td>\n",
       "      <td>77.4</td>\n",
       "      <td>Yes</td>\n",
       "    </tr>\n",
       "    <tr>\n",
       "      <th>2008-02-05</th>\n",
       "      <td>19.7</td>\n",
       "      <td>25.7</td>\n",
       "      <td>77.4</td>\n",
       "      <td>NaN</td>\n",
       "      <td>0.0</td>\n",
       "      <td>11.0</td>\n",
       "      <td>6.0</td>\n",
       "      <td>88.0</td>\n",
       "      <td>74.0</td>\n",
       "      <td>1008.3</td>\n",
       "      <td>1004.8</td>\n",
       "      <td>22.5</td>\n",
       "      <td>25.5</td>\n",
       "      <td>1.6</td>\n",
       "      <td>Yes</td>\n",
       "    </tr>\n",
       "  </tbody>\n",
       "</table>\n",
       "</div>"
      ],
      "text/plain": [
       "            MinTemp  MaxTemp  Rainfall  Evaporation  Sunshine  WindSpeed9am  \\\n",
       "Date                                                                          \n",
       "2008-02-01     19.5     22.4      15.6          6.2       0.0          17.0   \n",
       "2008-02-02     19.5     25.6       6.0          3.4       2.7           9.0   \n",
       "2008-02-03     21.6     24.5       6.6          2.4       0.1          17.0   \n",
       "2008-02-04     20.2     22.8      18.8          2.2       0.0          22.0   \n",
       "2008-02-05     19.7     25.7      77.4          NaN       0.0          11.0   \n",
       "\n",
       "            WindSpeed3pm  Humidity9am  Humidity3pm  Pressure9am  Pressure3pm  \\\n",
       "Date                                                                           \n",
       "2008-02-01          20.0         92.0         84.0       1017.6       1017.4   \n",
       "2008-02-02          13.0         83.0         73.0       1017.9       1016.4   \n",
       "2008-02-03           2.0         88.0         86.0       1016.7       1015.6   \n",
       "2008-02-04          20.0         83.0         90.0       1014.2       1011.8   \n",
       "2008-02-05           6.0         88.0         74.0       1008.3       1004.8   \n",
       "\n",
       "            Temp9am  Temp3pm  RISK_MM RainTomorrow  \n",
       "Date                                                \n",
       "2008-02-01     20.7     20.9      6.0          Yes  \n",
       "2008-02-02     22.4     24.8      6.6          Yes  \n",
       "2008-02-03     23.5     23.0     18.8          Yes  \n",
       "2008-02-04     21.4     20.9     77.4          Yes  \n",
       "2008-02-05     22.5     25.5      1.6          Yes  "
      ]
     },
     "execution_count": 7,
     "metadata": {},
     "output_type": "execute_result"
    }
   ],
   "source": [
    "dataset.head()"
   ]
  },
  {
   "cell_type": "markdown",
   "id": "ac473dd7",
   "metadata": {},
   "source": [
    "### Step 5: Deal with remaining missing data\n",
    "- A simple choice is to simply remove rows with missing data\n",
    "- Use [dropna()](https://pandas.pydata.org/docs/reference/api/pandas.DataFrame.dropna.html)"
   ]
  },
  {
   "cell_type": "code",
   "execution_count": 8,
   "id": "5cda89a8",
   "metadata": {},
   "outputs": [],
   "source": [
    "dataset_clean = dataset.dropna()"
   ]
  },
  {
   "cell_type": "code",
   "execution_count": 9,
   "id": "65e7d67c",
   "metadata": {},
   "outputs": [
    {
     "data": {
      "text/plain": [
       "(3337, 3187)"
      ]
     },
     "execution_count": 9,
     "metadata": {},
     "output_type": "execute_result"
    }
   ],
   "source": [
    "len(dataset), len(dataset_clean)"
   ]
  },
  {
   "cell_type": "markdown",
   "id": "5db49d8e",
   "metadata": {},
   "source": [
    "### Step 6: Create training and test datasets\n",
    "- Define dataset **X** to consist of all data except **'RainTomorrow'**.\n",
    "    - Use [dropna()](https://pandas.pydata.org/docs/reference/api/pandas.DataFrame.dropna.html)\n",
    "- Define dataset **y** to be datset cosisting of **'RainTomorrow'**.\n",
    "- Divide into **X_train, X_test, y_train, y_test** with **train_test_split**\n",
    "    - You can use **random_state=42** (or any other number) if you want to reproduce results."
   ]
  },
  {
   "cell_type": "code",
   "execution_count": 10,
   "id": "bfaa2a7a",
   "metadata": {},
   "outputs": [],
   "source": [
    "X = dataset_clean[dataset_clean.columns[:-1]]\n",
    "y = dataset_clean['RainTomorrow']\n",
    "y = np.array([0 if value == 'No' else 1 for value in y])"
   ]
  },
  {
   "cell_type": "code",
   "execution_count": 11,
   "id": "a60b572b",
   "metadata": {},
   "outputs": [],
   "source": [
    "X_train, X_test, y_train, y_test = train_test_split(X, y, random_state=0)"
   ]
  },
  {
   "cell_type": "markdown",
   "id": "809734e0",
   "metadata": {},
   "source": [
    "### Step 7: Train and test the model\n",
    "- Create classifier with **Perceptron**\n",
    "    - You can use **random_state=0** to be able to reproduce\n",
    "- Fit the model with training data **(X_train, y_train**)\n",
    "- Predict data from **X_test** (use predict) and assign to **y_pred**.\n",
    "- Evalute score by using **metrics.accuracy_score(y_test, y_pred)**.\n",
    "- You can redo with different choice of columns"
   ]
  },
  {
   "cell_type": "code",
   "execution_count": 12,
   "id": "0d4243cc",
   "metadata": {},
   "outputs": [
    {
     "data": {
      "text/plain": [
       "0.835633626097867"
      ]
     },
     "execution_count": 12,
     "metadata": {},
     "output_type": "execute_result"
    }
   ],
   "source": [
    "clf = Perceptron(random_state=0)\n",
    "clf.fit(X_train, y_train)\n",
    "y_pred = clf.predict(X_test)\n",
    "metrics.accuracy_score(y_test, y_pred)"
   ]
  },
  {
   "cell_type": "code",
   "execution_count": 13,
   "id": "ffdae258",
   "metadata": {},
   "outputs": [
    {
     "data": {
      "text/plain": [
       "0.7458424850957013"
      ]
     },
     "execution_count": 13,
     "metadata": {},
     "output_type": "execute_result"
    }
   ],
   "source": [
    "sum(y == 0) / len(y)"
   ]
  },
  {
   "cell_type": "markdown",
   "id": "56f51ce7",
   "metadata": {},
   "source": [
    "### Step 8 (Optional): Plot the result\n",
    "- Use Matplotlib.pyplot (**plt**) with **subplots** to create a figure and axes (**fig, ax**)\n",
    "- Predict all the datapoints in **X**.\n",
    "- Make a scatter plot with all datapoints in **X** with color by the predictions made.\n",
    "    - You might want to use **alpha=0.25** in your plot as argument."
   ]
  },
  {
   "cell_type": "code",
   "execution_count": 14,
   "id": "e7da5e81",
   "metadata": {},
   "outputs": [
    {
     "data": {
      "text/plain": [
       "<matplotlib.collections.PathCollection at 0x7f5f0d52db20>"
      ]
     },
     "execution_count": 14,
     "metadata": {},
     "output_type": "execute_result"
    },
    {
     "data": {
      "image/png": "[encoded data removed]",
      "text/plain": [
       "<Figure size 432x288 with 1 Axes>"
      ]
     },
     "metadata": {
      "needs_background": "light"
     },
     "output_type": "display_data"
    }
   ],
   "source": [
    "fig, ax = plt.subplots()\n",
    "y_pred = clf.predict(X)\n",
    "ax.scatter(x=X['Humidity3pm'], y=X['Pressure3pm'], c=y_pred, alpha=.25)"
   ]
  },
  {
   "cell_type": "code",
   "execution_count": null,
   "id": "6d5f74e9",
   "metadata": {},
   "outputs": [],
   "source": []
  },
  {
   "cell_type": "code",
   "execution_count": null,
   "id": "4a55dfcc",
   "metadata": {},
   "outputs": [],
   "source": []
  }
 ],
 "metadata": {
  "kernelspec": {
   "display_name": "Python 3",
   "language": "python",
   "name": "python3"
  },
  "language_info": {
   "codemirror_mode": {
    "name": "ipython",
    "version": 3
   },
   "file_extension": ".py",
   "mimetype": "text/x-python",
   "name": "python",
   "nbconvert_exporter": "python",
   "pygments_lexer": "ipython3",
   "version": "3.9.12"
  }
 },
 "nbformat": 4,
 "nbformat_minor": 5
}
