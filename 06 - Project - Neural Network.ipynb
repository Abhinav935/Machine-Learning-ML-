{
 "cells": [
  {
   "cell_type": "markdown",
   "id": "8b1dcffe",
   "metadata": {},
   "source": [
    "# Project: Neural Network\n",
    "- Diabetes Classification\n",
    "- Given a dataset of various metrics can we predict if a patient has diabetes"
   ]
  },
  {
   "cell_type": "markdown",
   "id": "9631cb36",
   "metadata": {},
   "source": [
    "### Step 1: Import libraries"
   ]
  },
  {
   "cell_type": "code",
   "execution_count": 2,
   "id": "d4cd816d",
   "metadata": {},
   "outputs": [],
   "source": [
    "import pandas as pd\n",
    "import numpy as np\n",
    "import tensorflow as tf\n",
    "from tensorflow.keras.layers import Input, Dense\n",
    "from tensorflow.keras.models import Sequential\n",
    "from sklearn.model_selection import train_test_split\n",
    "import matplotlib.pyplot as plt\n",
    "%matplotlib inline"
   ]
  },
  {
   "cell_type": "markdown",
   "id": "c42bbc01",
   "metadata": {},
   "source": [
    "### Step 2: Read the data\n",
    "- Use Pandas [read_csv](https://pandas.pydata.org/pandas-docs/stable/reference/api/pandas.read_csv.html) method to read **files/diabetes.csv**"
   ]
  },
  {
   "cell_type": "code",
   "execution_count": 3,
   "id": "182c1888",
   "metadata": {},
   "outputs": [
    {
     "data": {
      "text/html": [
       "<div>\n",
       "<style scoped>\n",
       "    .dataframe tbody tr th:only-of-type {\n",
       "        vertical-align: middle;\n",
       "    }\n",
       "\n",
       "    .dataframe tbody tr th {\n",
       "        vertical-align: top;\n",
       "    }\n",
       "\n",
       "    .dataframe thead th {\n",
       "        text-align: right;\n",
       "    }\n",
       "</style>\n",
       "<table border=\"1\" class=\"dataframe\">\n",
       "  <thead>\n",
       "    <tr style=\"text-align: right;\">\n",
       "      <th></th>\n",
       "      <th>Number of times pregnant</th>\n",
       "      <th>Plasma glucose concentration</th>\n",
       "      <th>Diastolic blood pressure</th>\n",
       "      <th>Triceps skin fold thickness</th>\n",
       "      <th>2-Hour serum insulin</th>\n",
       "      <th>Body mass index</th>\n",
       "      <th>Diabetes pedigree function</th>\n",
       "      <th>Age</th>\n",
       "      <th>Class variable</th>\n",
       "    </tr>\n",
       "  </thead>\n",
       "  <tbody>\n",
       "    <tr>\n",
       "      <th>0</th>\n",
       "      <td>6</td>\n",
       "      <td>148</td>\n",
       "      <td>72</td>\n",
       "      <td>35</td>\n",
       "      <td>0</td>\n",
       "      <td>33.6</td>\n",
       "      <td>0.627</td>\n",
       "      <td>50</td>\n",
       "      <td>1</td>\n",
       "    </tr>\n",
       "    <tr>\n",
       "      <th>1</th>\n",
       "      <td>1</td>\n",
       "      <td>85</td>\n",
       "      <td>66</td>\n",
       "      <td>29</td>\n",
       "      <td>0</td>\n",
       "      <td>26.6</td>\n",
       "      <td>0.351</td>\n",
       "      <td>31</td>\n",
       "      <td>0</td>\n",
       "    </tr>\n",
       "    <tr>\n",
       "      <th>2</th>\n",
       "      <td>8</td>\n",
       "      <td>183</td>\n",
       "      <td>64</td>\n",
       "      <td>0</td>\n",
       "      <td>0</td>\n",
       "      <td>23.3</td>\n",
       "      <td>0.672</td>\n",
       "      <td>32</td>\n",
       "      <td>1</td>\n",
       "    </tr>\n",
       "    <tr>\n",
       "      <th>3</th>\n",
       "      <td>1</td>\n",
       "      <td>89</td>\n",
       "      <td>66</td>\n",
       "      <td>23</td>\n",
       "      <td>94</td>\n",
       "      <td>28.1</td>\n",
       "      <td>0.167</td>\n",
       "      <td>21</td>\n",
       "      <td>0</td>\n",
       "    </tr>\n",
       "    <tr>\n",
       "      <th>4</th>\n",
       "      <td>0</td>\n",
       "      <td>137</td>\n",
       "      <td>40</td>\n",
       "      <td>35</td>\n",
       "      <td>168</td>\n",
       "      <td>43.1</td>\n",
       "      <td>2.288</td>\n",
       "      <td>33</td>\n",
       "      <td>1</td>\n",
       "    </tr>\n",
       "  </tbody>\n",
       "</table>\n",
       "</div>"
      ],
      "text/plain": [
       "   Number of times pregnant  Plasma glucose concentration  \\\n",
       "0                         6                           148   \n",
       "1                         1                            85   \n",
       "2                         8                           183   \n",
       "3                         1                            89   \n",
       "4                         0                           137   \n",
       "\n",
       "   Diastolic blood pressure  Triceps skin fold thickness  \\\n",
       "0                        72                           35   \n",
       "1                        66                           29   \n",
       "2                        64                            0   \n",
       "3                        66                           23   \n",
       "4                        40                           35   \n",
       "\n",
       "   2-Hour serum insulin  Body mass index  Diabetes pedigree function  Age  \\\n",
       "0                     0             33.6                       0.627   50   \n",
       "1                     0             26.6                       0.351   31   \n",
       "2                     0             23.3                       0.672   32   \n",
       "3                    94             28.1                       0.167   21   \n",
       "4                   168             43.1                       2.288   33   \n",
       "\n",
       "   Class variable  \n",
       "0               1  \n",
       "1               0  \n",
       "2               1  \n",
       "3               0  \n",
       "4               1  "
      ]
     },
     "execution_count": 3,
     "metadata": {},
     "output_type": "execute_result"
    }
   ],
   "source": [
    "data = pd.read_csv('./files/diabetes.csv')\n",
    "data.head()"
   ]
  },
  {
   "cell_type": "code",
   "execution_count": null,
   "id": "135e9e81",
   "metadata": {},
   "outputs": [],
   "source": []
  },
  {
   "cell_type": "markdown",
   "id": "afaa56d9",
   "metadata": {},
   "source": [
    "### Step 3: Check for data quality\n",
    "- Check **.isna().sum()**\n",
    "- Check **.dtypes**"
   ]
  },
  {
   "cell_type": "code",
   "execution_count": 4,
   "id": "87c86774",
   "metadata": {},
   "outputs": [
    {
     "data": {
      "text/plain": [
       "Number of times pregnant        0\n",
       "Plasma glucose concentration    0\n",
       "Diastolic blood pressure        0\n",
       "Triceps skin fold thickness     0\n",
       "2-Hour serum insulin            0\n",
       "Body mass index                 0\n",
       "Diabetes pedigree function      0\n",
       "Age                             0\n",
       "Class variable                  0\n",
       "dtype: int64"
      ]
     },
     "execution_count": 4,
     "metadata": {},
     "output_type": "execute_result"
    }
   ],
   "source": [
    "data.isna().sum()"
   ]
  },
  {
   "cell_type": "code",
   "execution_count": 5,
   "id": "f1e40926",
   "metadata": {},
   "outputs": [
    {
     "data": {
      "text/plain": [
       "Number of times pregnant          int64\n",
       "Plasma glucose concentration      int64\n",
       "Diastolic blood pressure          int64\n",
       "Triceps skin fold thickness       int64\n",
       "2-Hour serum insulin              int64\n",
       "Body mass index                 float64\n",
       "Diabetes pedigree function      float64\n",
       "Age                               int64\n",
       "Class variable                    int64\n",
       "dtype: object"
      ]
     },
     "execution_count": 5,
     "metadata": {},
     "output_type": "execute_result"
    }
   ],
   "source": [
    "data.dtypes"
   ]
  },
  {
   "cell_type": "markdown",
   "id": "c11677e0",
   "metadata": {},
   "source": [
    "### Step 4: Create dataset\n",
    "- Assign **X** to all but the last column\n",
    "- Assign **y** to the last column"
   ]
  },
  {
   "cell_type": "code",
   "execution_count": 6,
   "id": "1a6e8fde",
   "metadata": {},
   "outputs": [],
   "source": [
    "X = data.iloc[:,:-1]\n",
    "y = data.iloc[:, -1]"
   ]
  },
  {
   "cell_type": "code",
   "execution_count": null,
   "id": "4357f3f3",
   "metadata": {},
   "outputs": [],
   "source": []
  },
  {
   "cell_type": "markdown",
   "id": "8017f19c",
   "metadata": {},
   "source": [
    "### Step 5: Create training and test set\n",
    "- Use **train_test_split** to create **X_train, X_test, y_train, y_test**."
   ]
  },
  {
   "cell_type": "code",
   "execution_count": 7,
   "id": "afd3a92f",
   "metadata": {},
   "outputs": [],
   "source": [
    "X_train, X_test, y_train, y_test = train_test_split(X, y, random_state=42)"
   ]
  },
  {
   "cell_type": "code",
   "execution_count": null,
   "id": "39f69f38",
   "metadata": {},
   "outputs": [],
   "source": []
  },
  {
   "cell_type": "markdown",
   "id": "2ca69460",
   "metadata": {},
   "source": [
    "### Step 6: Calculate average accuracy for 10 runs\n",
    "- Create an empty list and assign it to **accuracies**\n",
    "- Loop over **i** over 10 integers.\n",
    "    - Set the random seed: **tf.random.set_seed(i)**\n",
    "    - Create a **Sequential** model\n",
    "    - Add a **Dense** layer with one exit node and **input_dim=8**, and **activation='sigmoid'**\n",
    "    - Compile the model with **loss='binary_crossentropy', optimizer='adam', metrics=['accuracy']**\n",
    "    - Fit the model with **epochs=1500, batch_size=100, verbose=0**\n",
    "    - Calculate the accuracy with **evaluate** on **X_test** and **y_test**\n",
    "        - The second return variable is the accuracy\n",
    "    - Append the accuracy (possibly multiplied by 100) to **accuraries**\n",
    "- Calculate the average value"
   ]
  },
  {
   "cell_type": "code",
   "execution_count": 8,
   "id": "3bc1af12",
   "metadata": {},
   "outputs": [
    {
     "name": "stderr",
     "output_type": "stream",
     "text": [
      "2022-04-23 17:55:55.990859: I tensorflow/stream_executor/cuda/cuda_gpu_executor.cc:939] successful NUMA node read from SysFS had negative value (-1), but there must be at least one NUMA node, so returning NUMA node zero\n",
      "2022-04-23 17:55:56.040391: I tensorflow/stream_executor/cuda/cuda_gpu_executor.cc:939] successful NUMA node read from SysFS had negative value (-1), but there must be at least one NUMA node, so returning NUMA node zero\n",
      "2022-04-23 17:55:56.040975: I tensorflow/stream_executor/cuda/cuda_gpu_executor.cc:939] successful NUMA node read from SysFS had negative value (-1), but there must be at least one NUMA node, so returning NUMA node zero\n",
      "2022-04-23 17:55:56.041420: I tensorflow/core/common_runtime/gpu/gpu_device.cc:1900] Ignoring visible gpu device (device: 0, name: Quadro K1000M, pci bus id: 0000:01:00.0, compute capability: 3.0) with Cuda compute capability 3.0. The minimum required Cuda capability is 3.5.\n",
      "2022-04-23 17:55:56.042651: I tensorflow/core/platform/cpu_feature_guard.cc:151] This TensorFlow binary is optimized with oneAPI Deep Neural Network Library (oneDNN) to use the following CPU instructions in performance-critical operations:  SSE4.1 SSE4.2 AVX\n",
      "To enable them in other operations, rebuild TensorFlow with the appropriate compiler flags.\n"
     ]
    },
    {
     "name": "stdout",
     "output_type": "stream",
     "text": [
      "6/6 [==============================] - 0s 2ms/step - loss: 0.5216 - accuracy: 0.7344\n",
      "6/6 [==============================] - 0s 2ms/step - loss: 0.5231 - accuracy: 0.7552\n",
      "6/6 [==============================] - 0s 1ms/step - loss: 0.5192 - accuracy: 0.7604\n",
      "6/6 [==============================] - 0s 2ms/step - loss: 0.5193 - accuracy: 0.7500\n",
      "6/6 [==============================] - 0s 1ms/step - loss: 0.5285 - accuracy: 0.7552\n",
      "6/6 [==============================] - 0s 2ms/step - loss: 0.5209 - accuracy: 0.7396\n",
      "6/6 [==============================] - 0s 1ms/step - loss: 0.5206 - accuracy: 0.7448\n",
      "6/6 [==============================] - 0s 2ms/step - loss: 0.5289 - accuracy: 0.7552\n",
      "6/6 [==============================] - 0s 1ms/step - loss: 0.5219 - accuracy: 0.7448\n",
      "6/6 [==============================] - 0s 1ms/step - loss: 0.5238 - accuracy: 0.7760\n"
     ]
    }
   ],
   "source": [
    "accuracies = []\n",
    "\n",
    "for i in range(10):\n",
    "  tf.random.set_seed(i)\n",
    "  model = Sequential()\n",
    "  model.add(Dense(1, input_dim=8, activation='sigmoid'))\n",
    "  model.compile(loss='binary_crossentropy', optimizer='adam', metrics=['accuracy'])\n",
    "  model.fit(X_train, y_train, epochs=1500, batch_size=100, verbose=0)\n",
    "  _, accuracy = model.evaluate(X_test, y_test)\n",
    "  accuracies.append(accuracy*100)"
   ]
  },
  {
   "cell_type": "code",
   "execution_count": 9,
   "id": "491382d8",
   "metadata": {},
   "outputs": [
    {
     "data": {
      "text/plain": [
       "75.15625"
      ]
     },
     "execution_count": 9,
     "metadata": {},
     "output_type": "execute_result"
    }
   ],
   "source": [
    "sum(accuracies) / len(accuracies)"
   ]
  },
  {
   "cell_type": "markdown",
   "id": "b8ff3d82",
   "metadata": {},
   "source": [
    "### Step 7: Predict values\n",
    "- Predict all values with model on **X**\n",
    "- Make it into class ids with **np.where(y_pred < 0.5, 0, 1)** *(assuming **y_pred** is the predictions)*"
   ]
  },
  {
   "cell_type": "code",
   "execution_count": 10,
   "id": "b12e5f14",
   "metadata": {},
   "outputs": [],
   "source": [
    "y_pred = model.predict(X)\n",
    "y_pred = np.where(y_pred < .5, 0, 1)"
   ]
  },
  {
   "cell_type": "code",
   "execution_count": null,
   "id": "cb22f0cf",
   "metadata": {},
   "outputs": [],
   "source": []
  },
  {
   "cell_type": "markdown",
   "id": "7e3999bd",
   "metadata": {},
   "source": [
    "### Step 8 (Optional): Visualize correct vs incorrect predictions\n",
    "- Calculate the ones that differ\n",
    "    - **np.abs(y.to_numpy() - y_pred.T)** *(assuming the variables names are correct)*\n",
    "    - Incorrect predictions will be 1, correct will be 0\n",
    "- Make a scatter plot with the two variables and the correctness calculations as colors"
   ]
  },
  {
   "cell_type": "code",
   "execution_count": 11,
   "id": "3483c8ff",
   "metadata": {},
   "outputs": [
    {
     "data": {
      "text/plain": [
       "<matplotlib.collections.PathCollection at 0x7fea3d0d1b20>"
      ]
     },
     "execution_count": 11,
     "metadata": {},
     "output_type": "execute_result"
    },
    {
     "data": {
      "image/png": "[encoded data removed]",
      "text/plain": [
       "<Figure size 432x288 with 1 Axes>"
      ]
     },
     "metadata": {
      "needs_background": "light"
     },
     "output_type": "display_data"
    }
   ],
   "source": [
    "differ = np.abs(y.to_numpy() - y_pred.T)\n",
    "\n",
    "fig, ax = plt.subplots()\n",
    "ax.scatter(x=X['Body mass index'], y=X['Age'], c = differ, alpha = .35)"
   ]
  },
  {
   "cell_type": "code",
   "execution_count": null,
   "id": "2f1292f8",
   "metadata": {},
   "outputs": [],
   "source": []
  }
 ],
 "metadata": {
  "kernelspec": {
   "display_name": "Python 3",
   "language": "python",
   "name": "python3"
  },
  "language_info": {
   "codemirror_mode": {
    "name": "ipython",
    "version": 3
   },
   "file_extension": ".py",
   "mimetype": "text/x-python",
   "name": "python",
   "nbconvert_exporter": "python",
   "pygments_lexer": "ipython3",
   "version": "3.9.12"
  }
 },
 "nbformat": 4,
 "nbformat_minor": 5
}
